{
 "cells": [
  {
   "cell_type": "markdown",
   "id": "840a80ef-b4d0-4aea-9c09-a6d0a78da193",
   "metadata": {},
   "source": [
    "### Upload librerie"
   ]
  },
  {
   "cell_type": "code",
   "execution_count": 77,
   "id": "67864281-757d-489a-b1f9-3d672378563b",
   "metadata": {},
   "outputs": [],
   "source": [
    "from sklearn import datasets\n",
    "from sklearn.preprocessing import MinMaxScaler\n",
    "from sklearn.utils import shuffle\n",
    "from sklearn.neighbors import KNeighborsClassifier as KNN\n",
    "from sklearn.metrics import accuracy_score\n",
    "from sklearn.metrics import precision_score\n",
    "from sklearn.metrics import recall_score"
   ]
  },
  {
   "cell_type": "code",
   "execution_count": 5,
   "id": "ac2d7b46-59a2-4d5c-9d9a-5879b3f8557a",
   "metadata": {},
   "outputs": [],
   "source": [
    "# Importo il dataset iris\n",
    "iris = datasets.load_iris()"
   ]
  },
  {
   "cell_type": "code",
   "execution_count": 7,
   "id": "1e8119ee-cf20-4482-b906-76e4d97465f2",
   "metadata": {},
   "outputs": [
    {
     "name": "stdout",
     "output_type": "stream",
     "text": [
      ".. _iris_dataset:\n",
      "\n",
      "Iris plants dataset\n",
      "--------------------\n",
      "\n",
      "**Data Set Characteristics:**\n",
      "\n",
      ":Number of Instances: 150 (50 in each of three classes)\n",
      ":Number of Attributes: 4 numeric, predictive attributes and the class\n",
      ":Attribute Information:\n",
      "    - sepal length in cm\n",
      "    - sepal width in cm\n",
      "    - petal length in cm\n",
      "    - petal width in cm\n",
      "    - class:\n",
      "            - Iris-Setosa\n",
      "            - Iris-Versicolour\n",
      "            - Iris-Virginica\n",
      "\n",
      ":Summary Statistics:\n",
      "\n",
      "============== ==== ==== ======= ===== ====================\n",
      "                Min  Max   Mean    SD   Class Correlation\n",
      "============== ==== ==== ======= ===== ====================\n",
      "sepal length:   4.3  7.9   5.84   0.83    0.7826\n",
      "sepal width:    2.0  4.4   3.05   0.43   -0.4194\n",
      "petal length:   1.0  6.9   3.76   1.76    0.9490  (high!)\n",
      "petal width:    0.1  2.5   1.20   0.76    0.9565  (high!)\n",
      "============== ==== ==== ======= ===== ====================\n",
      "\n",
      ":Missing Attribute Values: None\n",
      ":Class Distribution: 33.3% for each of 3 classes.\n",
      ":Creator: R.A. Fisher\n",
      ":Donor: Michael Marshall (MARSHALL%PLU@io.arc.nasa.gov)\n",
      ":Date: July, 1988\n",
      "\n",
      "The famous Iris database, first used by Sir R.A. Fisher. The dataset is taken\n",
      "from Fisher's paper. Note that it's the same as in R, but not as in the UCI\n",
      "Machine Learning Repository, which has two wrong data points.\n",
      "\n",
      "This is perhaps the best known database to be found in the\n",
      "pattern recognition literature.  Fisher's paper is a classic in the field and\n",
      "is referenced frequently to this day.  (See Duda & Hart, for example.)  The\n",
      "data set contains 3 classes of 50 instances each, where each class refers to a\n",
      "type of iris plant.  One class is linearly separable from the other 2; the\n",
      "latter are NOT linearly separable from each other.\n",
      "\n",
      ".. dropdown:: References\n",
      "\n",
      "  - Fisher, R.A. \"The use of multiple measurements in taxonomic problems\"\n",
      "    Annual Eugenics, 7, Part II, 179-188 (1936); also in \"Contributions to\n",
      "    Mathematical Statistics\" (John Wiley, NY, 1950).\n",
      "  - Duda, R.O., & Hart, P.E. (1973) Pattern Classification and Scene Analysis.\n",
      "    (Q327.D83) John Wiley & Sons.  ISBN 0-471-22361-1.  See page 218.\n",
      "  - Dasarathy, B.V. (1980) \"Nosing Around the Neighborhood: A New System\n",
      "    Structure and Classification Rule for Recognition in Partially Exposed\n",
      "    Environments\".  IEEE Transactions on Pattern Analysis and Machine\n",
      "    Intelligence, Vol. PAMI-2, No. 1, 67-71.\n",
      "  - Gates, G.W. (1972) \"The Reduced Nearest Neighbor Rule\".  IEEE Transactions\n",
      "    on Information Theory, May 1972, 431-433.\n",
      "  - See also: 1988 MLC Proceedings, 54-64.  Cheeseman et al\"s AUTOCLASS II\n",
      "    conceptual clustering system finds 3 classes in the data.\n",
      "  - Many, many more ...\n",
      "\n"
     ]
    }
   ],
   "source": [
    "print(iris['DESCR'])"
   ]
  },
  {
   "cell_type": "code",
   "execution_count": 9,
   "id": "0fa7ee33-c890-4e0a-911c-42247965037f",
   "metadata": {},
   "outputs": [
    {
     "data": {
      "text/plain": [
       "dict_keys(['data', 'target', 'frame', 'target_names', 'DESCR', 'feature_names', 'filename', 'data_module'])"
      ]
     },
     "execution_count": 9,
     "metadata": {},
     "output_type": "execute_result"
    }
   ],
   "source": [
    "iris.keys()"
   ]
  },
  {
   "cell_type": "code",
   "execution_count": 11,
   "id": "7ebfa16b-8886-4348-9b73-8564354eb6ef",
   "metadata": {},
   "outputs": [],
   "source": [
    "X = iris['data']\n",
    "Y = iris['target']"
   ]
  },
  {
   "cell_type": "code",
   "execution_count": 15,
   "id": "344eb001-4f10-41bd-b3fe-205d53bfb03b",
   "metadata": {},
   "outputs": [
    {
     "name": "stdout",
     "output_type": "stream",
     "text": [
      "feature: [5.1 3.5 1.4 0.2] label: 0\n",
      "feature: [4.9 3.  1.4 0.2] label: 0\n",
      "feature: [4.7 3.2 1.3 0.2] label: 0\n",
      "feature: [4.6 3.1 1.5 0.2] label: 0\n",
      "feature: [5.  3.6 1.4 0.2] label: 0\n",
      "feature: [5.4 3.9 1.7 0.4] label: 0\n",
      "feature: [4.6 3.4 1.4 0.3] label: 0\n",
      "feature: [5.  3.4 1.5 0.2] label: 0\n",
      "feature: [4.4 2.9 1.4 0.2] label: 0\n",
      "feature: [4.9 3.1 1.5 0.1] label: 0\n"
     ]
    }
   ],
   "source": [
    "for i, x in enumerate(X[:10]):\n",
    "    print(f'feature: {x} label: {Y[i]}')"
   ]
  },
  {
   "cell_type": "markdown",
   "id": "9f31c72f-1b58-44bd-98a7-ad4926bd8e63",
   "metadata": {},
   "source": [
    "### Feature Scaling"
   ]
  },
  {
   "cell_type": "code",
   "execution_count": 27,
   "id": "131b897b-197c-48b6-89f0-949ddad851fe",
   "metadata": {},
   "outputs": [
    {
     "data": {
      "text/plain": [
       "(150, 4)"
      ]
     },
     "execution_count": 27,
     "metadata": {},
     "output_type": "execute_result"
    }
   ],
   "source": [
    "X.shape"
   ]
  },
  {
   "cell_type": "code",
   "execution_count": 47,
   "id": "e8df37b1-b2f4-4276-8438-9572820b6aef",
   "metadata": {},
   "outputs": [
    {
     "name": "stdout",
     "output_type": "stream",
     "text": [
      "Sepal len - min: 4.3 max: 7.9 mean: 5.8\n",
      "Sepal wid - min: 2.0 max: 4.4 mean: 3.1\n",
      "Petal len - min: 1.0 max: 6.9 mean: 3.8\n",
      "Petal wid - min: 0.1 max: 2.5 mean: 1.2\n"
     ]
    }
   ],
   "source": [
    "import numpy as np\n",
    "min = np.min(X, axis=0)\n",
    "max = np.max(X, axis=0)\n",
    "mean = np.mean(X, axis=0)\n",
    "print(f'Sepal len - min: {min[0]} max: {max[0]} mean: {mean[0]:.1f}')\n",
    "print(f'Sepal wid - min: {min[1]} max: {max[1]} mean: {mean[1]:.1f}')\n",
    "print(f'Petal len - min: {min[2]} max: {max[2]} mean: {mean[2]:.1f}')\n",
    "print(f'Petal wid - min: {min[3]} max: {max[3]} mean: {mean[3]:.1f}')"
   ]
  },
  {
   "cell_type": "code",
   "execution_count": 51,
   "id": "ffacd960-04a6-44a2-af76-e4008279d458",
   "metadata": {},
   "outputs": [
    {
     "data": {
      "text/plain": [
       "(0, 1)"
      ]
     },
     "execution_count": 51,
     "metadata": {},
     "output_type": "execute_result"
    }
   ],
   "source": [
    "scaler = MinMaxScaler()\n",
    "scaler.feature_range"
   ]
  },
  {
   "cell_type": "code",
   "execution_count": 53,
   "id": "f8c80c50-6111-4536-a9c8-0bd593ee4e4c",
   "metadata": {},
   "outputs": [
    {
     "name": "stdout",
     "output_type": "stream",
     "text": [
      "Sepal len - min: 0.0 max: 1.0 mean: 0.4\n",
      "Sepal wid - min: 0.0 max: 1.0 mean: 0.4\n",
      "Petal len - min: 0.0 max: 1.0 mean: 0.5\n",
      "Petal wid - min: 0.0 max: 1.0 mean: 0.5\n"
     ]
    }
   ],
   "source": [
    "X = scaler.fit_transform(X)\n",
    "min = np.min(X, axis=0)\n",
    "max = np.max(X, axis=0)\n",
    "mean = np.mean(X, axis=0)\n",
    "print(f'Sepal len - min: {min[0]} max: {max[0]} mean: {mean[0]:.1f}')\n",
    "print(f'Sepal wid - min: {min[1]} max: {max[1]} mean: {mean[1]:.1f}')\n",
    "print(f'Petal len - min: {min[2]} max: {max[2]} mean: {mean[2]:.1f}')\n",
    "print(f'Petal wid - min: {min[3]} max: {max[3]} mean: {mean[3]:.1f}')"
   ]
  },
  {
   "cell_type": "markdown",
   "id": "5868527c-11c1-4d28-8d3b-5fdd302f9084",
   "metadata": {},
   "source": [
    "### Training set e test set"
   ]
  },
  {
   "cell_type": "code",
   "execution_count": 112,
   "id": "d6b20d45-aa15-477a-881f-ff6ab5908648",
   "metadata": {},
   "outputs": [],
   "source": [
    "from sklearn.model_selection import train_test_split\n",
    "# Primo split: 80% training + validation, 25% test\n",
    "X_train_val, X_test, y_train_val, y_test = train_test_split(X, Y, test_size=0.25, random_state=0, stratify=Y, shuffle=True)\n",
    "\n",
    "# Secondo split: 80% training, 20% validation (dai dati di train+validation)\n",
    "X_train, X_val, y_train, y_val = train_test_split(X, Y, test_size=0.2, random_state=42, stratify=Y, shuffle=True)"
   ]
  },
  {
   "cell_type": "markdown",
   "id": "764e5905-0069-461c-a021-dc098b1815a2",
   "metadata": {},
   "source": [
    "## K Nearest Neighbors"
   ]
  },
  {
   "cell_type": "markdown",
   "id": "52e6b332-26ab-46af-8e02-01bc6d48fd71",
   "metadata": {},
   "source": [
    "### Addestramento"
   ]
  },
  {
   "cell_type": "code",
   "execution_count": 116,
   "id": "969ddfa3-675d-4bba-b52d-d0095a10994e",
   "metadata": {},
   "outputs": [
    {
     "name": "stdout",
     "output_type": "stream",
     "text": [
      "k=2 - accuracy: 0.93\n",
      "k=3 - accuracy: 0.97\n",
      "k=5 - accuracy: 0.97\n",
      "k=10 - accuracy: 0.97\n"
     ]
    }
   ],
   "source": [
    "for i in [2,3,5,10]:\n",
    "    model = KNN(n_neighbors=i)\n",
    "    model.fit(X_train, y_train)\n",
    "    prediction = model.predict(X_val)\n",
    "    val_accuracy = accuracy_score(y_val, prediction)\n",
    "    print(f'k={i} - accuracy: {val_accuracy:.2f}')"
   ]
  },
  {
   "cell_type": "code",
   "execution_count": 118,
   "id": "ce03f25a-45dc-4abe-ad8d-55e53c026b16",
   "metadata": {},
   "outputs": [
    {
     "name": "stdout",
     "output_type": "stream",
     "text": [
      "Test accuracy: 0.9736842105263158\n"
     ]
    }
   ],
   "source": [
    "best_model = KNN(n_neighbors=3)\n",
    "best_model.fit(X_train, y_train)\n",
    "prediction = best_model.predict(X_test)\n",
    "\n",
    "print('Test accuracy:', accuracy_score(y_test, prediction))"
   ]
  },
  {
   "cell_type": "markdown",
   "id": "68f3faba-ddd0-46b8-b10c-c73f45e40b76",
   "metadata": {},
   "source": [
    "## Decision Tree"
   ]
  },
  {
   "cell_type": "markdown",
   "id": "7d2e1675-ff7f-470b-baeb-40c9fc1da02f",
   "metadata": {},
   "source": [
    "### Addestramento"
   ]
  },
  {
   "cell_type": "code",
   "execution_count": 122,
   "id": "9e3fa0de-450a-4714-97a8-6543954c8e0d",
   "metadata": {},
   "outputs": [
    {
     "name": "stdout",
     "output_type": "stream",
     "text": [
      "k=1 - accuracy: 0.67\n",
      "k=2 - accuracy: 0.93\n",
      "k=3 - accuracy: 0.97\n",
      "k=4 - accuracy: 0.97\n",
      "k=5 - accuracy: 0.97\n",
      "k=6 - accuracy: 0.97\n",
      "k=7 - accuracy: 0.97\n",
      "k=8 - accuracy: 0.97\n",
      "k=9 - accuracy: 0.97\n",
      "k=10 - accuracy: 0.93\n",
      "k=11 - accuracy: 0.93\n",
      "k=12 - accuracy: 0.97\n",
      "k=13 - accuracy: 0.93\n",
      "k=14 - accuracy: 0.93\n",
      "k=15 - accuracy: 0.93\n",
      "k=16 - accuracy: 0.93\n",
      "k=17 - accuracy: 0.93\n",
      "k=18 - accuracy: 0.93\n",
      "k=19 - accuracy: 0.93\n",
      "k=20 - accuracy: 0.97\n",
      "k=21 - accuracy: 0.97\n",
      "k=22 - accuracy: 0.93\n",
      "k=23 - accuracy: 0.97\n",
      "k=24 - accuracy: 0.93\n",
      "k=25 - accuracy: 0.93\n",
      "k=26 - accuracy: 0.97\n",
      "k=27 - accuracy: 0.97\n",
      "k=28 - accuracy: 0.93\n",
      "k=29 - accuracy: 0.97\n"
     ]
    }
   ],
   "source": [
    "from sklearn.tree import DecisionTreeClassifier as DT\n",
    "for i in range(1,30):\n",
    "    model = DT(max_depth=i)\n",
    "    model.fit(X_train, y_train)\n",
    "    prediction = model.predict(X_val)\n",
    "    val_accuracy = accuracy_score(y_val, prediction)\n",
    "    print(f'k={i} - accuracy: {val_accuracy:.2f}')"
   ]
  },
  {
   "cell_type": "code",
   "execution_count": 124,
   "id": "8d7df073-12e3-4a95-8400-b26510c8b97c",
   "metadata": {},
   "outputs": [
    {
     "name": "stdout",
     "output_type": "stream",
     "text": [
      "Accuracy on test set: 1.00\n"
     ]
    }
   ],
   "source": [
    "best_model = DT(max_depth=3)\n",
    "best_model.fit(X_train, y_train)\n",
    "prediction = best_model.predict(X_test)\n",
    "accuracy = accuracy_score(y_test, prediction)\n",
    "\n",
    "print('Accuracy on test set: {:.2f}'.format(accuracy))"
   ]
  },
  {
   "cell_type": "code",
   "execution_count": null,
   "id": "52d96a88-53eb-4e8f-8914-f62eaebf7f79",
   "metadata": {},
   "outputs": [],
   "source": []
  },
  {
   "cell_type": "code",
   "execution_count": null,
   "id": "5d433f93-95e7-4ada-845d-67fe3c2dee53",
   "metadata": {},
   "outputs": [],
   "source": []
  }
 ],
 "metadata": {
  "kernelspec": {
   "display_name": "Python 3 (ipykernel)",
   "language": "python",
   "name": "python3"
  },
  "language_info": {
   "codemirror_mode": {
    "name": "ipython",
    "version": 3
   },
   "file_extension": ".py",
   "mimetype": "text/x-python",
   "name": "python",
   "nbconvert_exporter": "python",
   "pygments_lexer": "ipython3",
   "version": "3.12.7"
  }
 },
 "nbformat": 4,
 "nbformat_minor": 5
}

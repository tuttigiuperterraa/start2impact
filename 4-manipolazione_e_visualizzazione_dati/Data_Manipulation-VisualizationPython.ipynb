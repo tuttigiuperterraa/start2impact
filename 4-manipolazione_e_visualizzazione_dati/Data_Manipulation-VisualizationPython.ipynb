{
 "cells": [
  {
   "cell_type": "markdown",
   "id": "2c640770-5ccb-4aa8-a24f-973002879a10",
   "metadata": {},
   "source": [
    "# Wine Reviews"
   ]
  },
  {
   "cell_type": "code",
   "execution_count": null,
   "id": "c80dca3f-9a87-4529-8a66-bd4cd61c5d27",
   "metadata": {},
   "outputs": [],
   "source": [
    "#importo le librerie necessarie\n",
    "import pandas as pd\n",
    "import plotly.express as px\n",
    "import plotly.graph_objects as go\n",
    "from plotly.subplots import make_subplots\n",
    "import seaborn as sns\n",
    "import numpy as np\n",
    "import matplotlib.pyplot as plt"
   ]
  },
  {
   "cell_type": "code",
   "execution_count": null,
   "id": "0bc611c2-e7c4-4887-86fc-19e0eec8e735",
   "metadata": {},
   "outputs": [],
   "source": [
    "# Importazione del file CSV\n",
    "dataset = pd.read_csv(\"winemag-data-130k-v2.csv\")\n",
    "dataset = dataset.drop(columns=[\"Unnamed: 0\"])"
   ]
  },
  {
   "cell_type": "markdown",
   "id": "96417296-324b-455d-9441-92a7249ac6c3",
   "metadata": {},
   "source": [
    "# Esplorazione iniziale dei dati"
   ]
  },
  {
   "cell_type": "markdown",
   "id": "ee6e33e3-16ee-484b-99d1-6f5c765a5152",
   "metadata": {},
   "source": [
    "### Dati mancanti o inconsistenti\n",
    "##### Controllo le righe con dati errati o inconsistente (ad esempio eventuali prezzi negativi, ...)."
   ]
  },
  {
   "cell_type": "code",
   "execution_count": null,
   "id": "94670d79-dbf7-4dfc-bcbd-c607ff001041",
   "metadata": {},
   "outputs": [],
   "source": [
    "dataset.info()"
   ]
  },
  {
   "cell_type": "code",
   "execution_count": null,
   "id": "faedaba5-7ade-475e-b3e3-c1ded4d8017d",
   "metadata": {},
   "outputs": [],
   "source": [
    "dataset.describe(include='all')"
   ]
  },
  {
   "cell_type": "markdown",
   "id": "3445f033-c338-47d3-9276-e386bc2fd75c",
   "metadata": {},
   "source": [
    "### Rimozione delle righe che contengono NaN per prezzo, punteggio e provenienza\n",
    "##### Essendo informazioni importanti nella vendita di un vino vengono rimosse le righe prive di tali informazioni"
   ]
  },
  {
   "cell_type": "code",
   "execution_count": null,
   "id": "2fbdb0ca-95e2-4ce9-9e77-7052526f92cc",
   "metadata": {},
   "outputs": [],
   "source": [
    "dataset = dataset.dropna(subset=['price', 'points', 'country'])"
   ]
  },
  {
   "cell_type": "code",
   "execution_count": null,
   "id": "43c04104-8e38-422e-9932-c6f8a60f845b",
   "metadata": {},
   "outputs": [],
   "source": [
    "# Rivisualizzazione dei dati dopo il drop NaN\n",
    "dataset.info()"
   ]
  },
  {
   "cell_type": "code",
   "execution_count": null,
   "id": "52325288-25a7-4cd0-a1e8-1da571670cbd",
   "metadata": {},
   "outputs": [],
   "source": [
    "dataset.describe(include='all')"
   ]
  },
  {
   "cell_type": "markdown",
   "id": "2a6be0a3-43e4-4ad1-a9c6-be5cef4cba0f",
   "metadata": {},
   "source": [
    "### Valutazione della distribuzione dei vini suddivisi per i diversi country in tabella\n",
    "##### Do uno sguardo a quali sono i paesi piu rappresentati all'interno della tabella per avere una panoramica di quali paesi producono piu vino"
   ]
  },
  {
   "cell_type": "code",
   "execution_count": null,
   "id": "0b04490e-0afc-4a8b-9468-37f763cd7e28",
   "metadata": {},
   "outputs": [],
   "source": [
    "# Suddivido i vini per 'country'\n",
    "groups_country = dataset.groupby(\"country\").size()\n",
    "# Creo un grafico a barre per visualizzare la distribuzione\n",
    "fig = px.bar(groups_country.sort_values(ascending = False),title=\"Vini per paese\", width=800, height=600)\n",
    "fig.update_layout(showlegend=False)\n",
    "fig.show()"
   ]
  },
  {
   "cell_type": "markdown",
   "id": "652b29bd-78aa-4af8-acaa-5c3b58db95af",
   "metadata": {},
   "source": [
    "Il grafico sottolinea una forte concentrazione della produzione o del valore dei vini in pochi paesi, principalmente Stati Uniti, Francia e Italia, seguiti da Spagna, Portogallo, Chile, Argentina, Austra, Australia Germania, Nuova Zelanda e Sud Africa. Questi dominano il mercato, mentre la maggior parte delle altre nazioni registra una produzione molto limitata. La distribuzione dei dati appare quindi sbilanciata, con un netto divario tra il gruppo di testa e tutti gli altri paesi."
   ]
  },
  {
   "cell_type": "markdown",
   "id": "eba0af3b-acd6-4a5b-80f3-315dc8574e42",
   "metadata": {},
   "source": [
    "### Valutazione della distribuzione dei prezzi e dei punteggi\n",
    "##### 1. Guardo qual'è la distribuzione dei prezzi all'interno del dataset.\n",
    "##### 2. Faccio lo stesso per il punteggio immaginando che esista un range entro il quale scegliere i punti da assegnare (anche osservato con il metodo  dataset.describe()).\n",
    "##### 3. Infine plotto con uno scatter il prezzo dei vini (asse y) in relazione al loro punteggio (asse x) per iniziare a valutare una possibile correlazione tra le due grandezze"
   ]
  },
  {
   "cell_type": "code",
   "execution_count": null,
   "id": "9567a56a-3d5b-40bc-8ba5-d67ee2594bc5",
   "metadata": {},
   "outputs": [],
   "source": [
    "# Creo una figura con 2 riga e 2 colonne per rappresentare i tre grafici in un unico output.\n",
    "# Questo può facilitare la visualizzazione e il confronto tra i grafici\n",
    "fig = make_subplots(\n",
    "    rows=2, cols=2, \n",
    "    subplot_titles=(\"Distribuzione dei Prezzi\", \"Distribuzione dei Punteggi\", \"Prezzo vs Punteggio\"),\n",
    "    shared_yaxes=False  # Non condividere gli assi Y\n",
    ")\n",
    "\n",
    "# Avendo osservato con il metodo .describe() una grande differenza tra min e max dei valori di prezzo e un'elevata dev. standard \n",
    "# decido di utilizzare un grafico a violino per la distribuzione dei prezzi. Questo mi permette di visualizzare in uno spazio ristretto eventuali valori\n",
    "# anche molto distanti tra loro\n",
    "fig_violino = px.violin(dataset, y=\"price\", points=\"all\", labels={\"price\": \"Prezzo\"})\n",
    "\n",
    "# Aggiungo il grafico a violino alla figura\n",
    "for trace in fig_violino.data:\n",
    "    fig.add_trace(trace, row=1, col=1)\n",
    "\n",
    "# Aggungo i titoli agli assi del grafico a violino\n",
    "fig.update_xaxes(title_text=\"Distribuzione dei Prezzi\", row=1, col=1)\n",
    "fig.update_yaxes(title_text=\"Frequenza\", row=1, col=1)\n",
    "\n",
    "# Al contrario dei prezzi, i punteggi oscillano tra valori non molto distanti tra loro quindi decido di usare un Istogramma per la\n",
    "# visualizzazione della distribuzione dei punteggi\n",
    "fig_hist = px.histogram(dataset, x=\"points\", nbins=30, histnorm='density', opacity=0.6, labels={\"points\": \"Punteggio\"})\n",
    "# Aggiungo l'istogramma alla figura\n",
    "for trace in fig_hist.data:\n",
    "    fig.add_trace(trace, row=1, col=2)\n",
    "\n",
    "# Aggiungo i titoli agli assi dell'istogramma\n",
    "fig.update_xaxes(title_text=\"Punteggio\", row=1, col=2)\n",
    "fig.update_yaxes(title_text=\"Densità\", row=1, col=2)\n",
    "\n",
    "# Scatter plot: Prezzo vs Punteggio. Lo scatter permette di mettere in evidenza una possibile correlazione tra grandezze che, se presente, mostra\n",
    "# una distribuzione dei punto lungo una curva di funzione.\n",
    "scatter = px.scatter(dataset, x=\"points\", y=\"price\", title=\"Prezzo vs Punteggio\", labels={\"points\": \"Punteggio\", \"price\": \"Prezzo\"})\n",
    "# Aggiungo lo scatter plot alla figura\n",
    "for trace in scatter.data:\n",
    "    fig.add_trace(trace, row=2, col=1)\n",
    "\n",
    "# Aggiungo i titoli agli assi dello scatter plot\n",
    "fig.update_xaxes(title_text=\"Punteggio\", row=2, col=1)\n",
    "fig.update_yaxes(title_text=\"Prezzo\", row=2, col=1)\n",
    "\n",
    "\n",
    "\n",
    "# Miglioramenti alla leggibilità\n",
    "fig.update_layout(\n",
    "    showlegend=False,\n",
    "    width=1000,  # Larghezza complessiva della figura\n",
    "    height=1000, # Altezza della figura\n",
    "    title=\"Analisi della Distribuzione dei Prezzi e Punteggi\"\n",
    ")\n",
    "\n",
    "# Mostro il grafico\n",
    "fig.show()"
   ]
  },
  {
   "cell_type": "markdown",
   "id": "247b84c8-b2e3-4559-825b-2c478a9856ee",
   "metadata": {},
   "source": [
    "Dai grafici ottenuti osserviamo come i prezzi dei vini ricadano prevalentementi all'interno di un intervallo ben evidenziato dalla figura del violino attorno al valore medio, ma si notano degli outlier che assumono valori molto elevati.  \n",
    "I punteggi si distribuiscono lungo una curva che ricorda vagamente una normale con maggior frequenza di punteggi intermedi e minor incidenza di punteggi particolarmente elevati o particolarmente bassi.  \n",
    "Lo scatter plot invece suggerisce una certa tendenza delle due grandezze al variare assieme ma l'assenza di una vera e propria correlazione lineare tra le due. Si vede che all'aumentare del punteggio ad aumentere non è il prezzo del vino ma l'intervallo di prezzi che raggiungono valori massimi piu alti. Detto questo è comunque possibile osservare vini che nonostante punteggi molti alti presentano prezzi ridotti e, ancora, vini molto costosi che non si posizionano tra i rating più elevati."
   ]
  },
  {
   "cell_type": "markdown",
   "id": "1d9cb5aa-1a84-4a6f-8e0a-f3a4d0b02cf3",
   "metadata": {},
   "source": [
    "### Ricerca di potenziale correlazione tra prezzi e punteggi"
   ]
  },
  {
   "cell_type": "code",
   "execution_count": null,
   "id": "f66d6e13-660e-4276-9b71-cd47fad960b7",
   "metadata": {
    "scrolled": true
   },
   "outputs": [],
   "source": [
    "# Visualizzo la correlazione con una heatmap per la matrice di correlazione delle variabili\n",
    "plt.figure(figsize=(8, 6))\n",
    "sns.heatmap(dataset[['price', 'points']].corr(), annot=True, cmap='coolwarm', fmt=\".2f\")\n",
    "plt.title('Matrice di Correlazione tra Prezzo e Punteggio')\n",
    "plt.show()"
   ]
  },
  {
   "cell_type": "markdown",
   "id": "f5f2d3f5-e0e3-4398-a2fb-677249971296",
   "metadata": {},
   "source": [
    "A supporto di quanto già osservato con lo scatter plot, un valore di 0.42 suggerisce che c'è una certa tendenza delle due variabili a variare insieme, ma non in modo molto forte e non linearmente."
   ]
  },
  {
   "cell_type": "markdown",
   "id": "43d7f8ac-2c92-4a8e-8d01-1dde67993aec",
   "metadata": {},
   "source": [
    "### Visualizzare il prezzo dei vini per paese\n",
    "##### Per analizzare quali paesi producono i vini più costosi ed individuare un'eventale correlazione tra prezzo e paese, utilizzo una rappresentazione a violino. Questo approccio, rispetto all'uso della media del prezzo per ciascun paese, consente di evitare interpretazioni distorte che potrebbero derivare dalla presenza di vini molto economici. Infatti, la media potrebbe non riflettere accuratamente i prezzi più alti, in quanto i vini a basso costo potrebbero abbassarla. La rappresentazione a violino, invece, mostra meglio la distribuzione dei prezzi, evidenziando i valori estremi (come i prezzi più alti) e offrendo una visione più completa del panorama dei prezzi per ogni paese."
   ]
  },
  {
   "cell_type": "code",
   "execution_count": null,
   "id": "ff10949d-fdbd-4152-9353-a873a59b0739",
   "metadata": {
    "scrolled": true
   },
   "outputs": [],
   "source": [
    "# Creo il violin plot per visualizzare la distribuzione dei prezzi per ogni paese\n",
    "fig = px.violin(dataset, x=\"country\", y=\"price\", \n",
    "                points=\"all\",  \n",
    "                title=\"Distribuzione dei Prezzi dei Vini per Paese\",\n",
    "                labels={\"country\": \"Paese\", \"price\": \"Prezzo\"},\n",
    "                color=\"country\",  # Colori diversi per ogni paese\n",
    "                width=1000, height=600)\n",
    "\n",
    "# Ruoto le etichette dell'asse X per migliorare la visibilità\n",
    "fig.update_xaxes(tickangle=45)\n",
    "\n",
    "# Mostro il grafico\n",
    "fig.show()"
   ]
  },
  {
   "cell_type": "markdown",
   "id": "aaadca8a-d0be-44d8-a9c2-a6fab1a7f354",
   "metadata": {},
   "source": [
    "Il grafico evidenzia una forte disparità nei prezzi dei vini tra i vari paesi. La Francia e gli Stati Uniti si distinguono per la presenza di vini molto costosi, seguiti da Austria, Portogallo, Italia, Australia, Spagna e Ungheria, mentre paesi come Cina, Romania e Messico mostrano una predominanza di vini a basso prezzo. Questa distribuzione riflette probabilmente fattori come la qualità del vino, il mercato di riferimento e le tradizioni vinicole di ciascun paese."
   ]
  },
  {
   "cell_type": "markdown",
   "id": "b96d6abe-9905-4e13-8d95-aec49cdd72c0",
   "metadata": {},
   "source": [
    "### Valutazione della distribuzione dei vini suddivisi per le diverse varietà in tabella"
   ]
  },
  {
   "cell_type": "code",
   "execution_count": null,
   "id": "80f5f33f-b85a-41b6-89bd-23642f45addb",
   "metadata": {},
   "outputs": [],
   "source": [
    "groups_variety = dataset.groupby(\"variety\").size()\n",
    "sorted_groups_variety = groups_variety.sort_values(ascending=True)\n",
    "# Creo un grafico a barre verticale\n",
    "fig = px.bar(sorted_groups_variety, \n",
    "             y=sorted_groups_variety.index,  # Le varietà saranno sull'asse y\n",
    "             x=sorted_groups_variety.values,  # I conteggi saranno sull'asse x\n",
    "             title=\"Varietà disponibili\", \n",
    "             width=1000, \n",
    "             height=1000)\n",
    "\n",
    "# Disabilito la legenda\n",
    "fig.update_layout(showlegend=False,\n",
    "                  xaxis_title = 'Numero produttori')\n",
    "\n",
    "# Mostro il grafico\n",
    "fig.show()"
   ]
  },
  {
   "cell_type": "markdown",
   "id": "c318b99e-a66c-4c44-b03e-c25cf3a31103",
   "metadata": {},
   "source": [
    "# Suddivisione per fasce di rarità\n",
    "##### Vedendo il grafico a barre precedente capiamo che alcuni vini sono particolarmente rari tanto da avere pochissimi produttori.\n",
    "##### Come strategia per la popolazione del marketplace decido di suddividere i vini per fasce di rarità "
   ]
  },
  {
   "cell_type": "code",
   "execution_count": null,
   "id": "a8a6660c-fa48-48a5-ac39-99ae6bcfc9ca",
   "metadata": {},
   "outputs": [],
   "source": [
    "#Calcolo le statistiche delle frequenze di varietà per stabilire una soglia di rarità\n",
    "# Estraggo i valori unici delle frequenze di varietà\n",
    "unique_frequencies = sorted_groups_variety.unique()\n",
    "\n",
    "# Calcolo le statistiche sui valori unici\n",
    "print(f\"Media dei valori unici: {unique_frequencies.mean()}\\n\"\n",
    "      f\"Mediana dei valori unici: {np.median(unique_frequencies)}\\n\"\n",
    "      f\"Q1 (primo quartile): {np.percentile(unique_frequencies, 25)}\\n\"\n",
    "      f\"Q2 (Mediana): {np.percentile(unique_frequencies, 50)}\\n\"\n",
    "      f\"Q3 (terzo quartile): {np.percentile(unique_frequencies, 75)}\\n\"\n",
    "      f\"Deviazione standard: {np.std(unique_frequencies)}\")\n",
    "\n",
    "# Calcolo quartinli \n",
    "percentile_25 = np.percentile(unique_frequencies, 25)\n",
    "percentile_50 = np.percentile(unique_frequencies, 50)\n",
    "percentile_75 = np.percentile(unique_frequencies, 75)\n",
    "\n",
    "print(f\"\\nPercentile 25: {percentile_25}\")\n",
    "print(f\"Percentile 50: {percentile_50}\")\n",
    "print(f\"Percentile 75: {percentile_75}\")\n"
   ]
  },
  {
   "cell_type": "code",
   "execution_count": null,
   "id": "9ec876a5-7717-4165-9cdd-ddb8d42fc6a7",
   "metadata": {},
   "outputs": [],
   "source": [
    "#Stabiliamo le 4 fasce di rarità con i quartili\n",
    "varietà_rare = sorted_groups_variety[sorted_groups_variety.values < percentile_25]\n",
    "varietà_poco_comuni = sorted_groups_variety[(sorted_groups_variety.values > percentile_25)  & (sorted_groups_variety.values < percentile_50)]\n",
    "varietà_comuni = sorted_groups_variety[(sorted_groups_variety.values > percentile_50)  & (sorted_groups_variety.values < percentile_75)]\n",
    "varietà_popolari = sorted_groups_variety[sorted_groups_variety.values > percentile_75]"
   ]
  },
  {
   "cell_type": "markdown",
   "id": "69b8b873-6ace-45a5-aa96-377f883e4a84",
   "metadata": {},
   "source": [
    "Ho valutato la distribuzione delle frequenze delle diverse varietà di vini e le ho divise, utilizzando i quartili, in quattro classi di popolarità:\n",
    "1. Vini rari: varietà di vini prodotti da meno di 39 produttori in tutto il mondo\n",
    "2. Vini poco comuni: varietà di vini prodotti da un numero di produttori compreso tra 40 e 121\n",
    "3. Vini comuni: varietà di vini prodotti da un numero di produttori compreso tra 122 e 541\n",
    "4. Vini popolari: varietà di vini prodotti da più di 541 produttori nel mondo"
   ]
  },
  {
   "cell_type": "markdown",
   "id": "f4f3ba4f-9f7a-44ef-8e2f-031421a7af80",
   "metadata": {},
   "source": [
    "# Vini rari"
   ]
  },
  {
   "cell_type": "code",
   "execution_count": null,
   "id": "b1637830-0137-44bd-bb61-4db307811b94",
   "metadata": {},
   "outputs": [],
   "source": [
    "# Conto quante varietà di vini rari esistono\n",
    "varietà_rare.count()"
   ]
  },
  {
   "cell_type": "code",
   "execution_count": null,
   "id": "80331504-d0f7-4eac-b977-72723ad4f7a9",
   "metadata": {},
   "outputs": [],
   "source": [
    "# Li estraggo dal dataset completo\n",
    "vini_rari = dataset[dataset['variety'].isin(varietà_rare.index)]\n",
    "#vini_rari.sort_values('points', ascending = False).head(10)"
   ]
  },
  {
   "cell_type": "markdown",
   "id": "b8a7f7f3-9ea4-46f4-bc28-c601aa9dd91a",
   "metadata": {},
   "source": [
    "Trattandosi di vini rari, che quindi verranno venduti ad alto prezzo e a una fetta ristretta della clientela ho deciso di selezionarne solo 5 per il mio marketplace. Volendo selezionare solo 5 vini rari si valutano quelli con i 5 punteggi più alti e per ciascun punteggio si predilige il vino più economico in modo da poter avere un profitto piu elevato al momento della vendita."
   ]
  },
  {
   "cell_type": "code",
   "execution_count": null,
   "id": "bf7a4115-7a98-4c32-8a7d-7b9edce45e36",
   "metadata": {},
   "outputs": [],
   "source": [
    "# Seleziono i 5 score migliori\n",
    "migliori_scores_vini_rari = np.sort(vini_rari.points.unique())[-5:]\n",
    "\n",
    "# Filtro i vini con i migliori punteggi\n",
    "migliori_vini_rari = vini_rari[vini_rari.points.isin(migliori_scores_vini_rari)]\n",
    "\n",
    "# Raggruppo per 'points', 'country' e 'price' e conto il numero di vini per ciascuna combinazione\n",
    "conteggio_vini_per_punteggio_country = migliori_vini_rari.groupby(['points', 'country', 'price']).size().reset_index(name='conteggio')\n",
    "\n",
    "# Ordino per 'points' e 'price' (all'interno di ogni punteggio)\n",
    "conteggio_vini_per_punteggio_country_sorted = conteggio_vini_per_punteggio_country.sort_values(['points', 'price'], ascending=[False, False])\n",
    "\n",
    "# Creo il grafico a barre\n",
    "fig = px.bar(conteggio_vini_per_punteggio_country_sorted, \n",
    "             x='points', \n",
    "             y='conteggio', \n",
    "             color='country',  # Dividi per paese (colorazione per paese)\n",
    "             hover_data={'price': True},  # Mostra il prezzo nel tooltip\n",
    "             title='Conteggio Vini Rari per Punteggio e Paese', \n",
    "             labels={'points': 'Punteggio', 'conteggio': 'Conteggio Vini', 'country': 'Paese'},\n",
    "             width=800, height=600)\n",
    "\n",
    "# Mostro il grafico\n",
    "fig.show()\n"
   ]
  },
  {
   "cell_type": "markdown",
   "id": "06dd4fd0-fecd-42b2-aa72-1ab1203a5335",
   "metadata": {},
   "source": [
    "##### Volendo rivendere i vini conviene selezionare i vini meno costosi in modo tale da avere un maggior margine di profitto"
   ]
  },
  {
   "cell_type": "code",
   "execution_count": null,
   "id": "6625efc4-c49b-4f9d-9c1d-6fd04526c418",
   "metadata": {},
   "outputs": [],
   "source": [
    "min_price_per_points = migliori_vini_rari.groupby('points')['price'].min()\n",
    "min_price_per_points"
   ]
  },
  {
   "cell_type": "code",
   "execution_count": null,
   "id": "f06ca19b-4a62-4e54-a5fe-8319672fe742",
   "metadata": {},
   "outputs": [],
   "source": [
    "min_price_per_points = migliori_vini_rari.groupby('points')['price'].min()\n",
    "vini_rari_marketplace = pd.DataFrame()\n",
    "\n",
    "for index, value in min_price_per_points.items():\n",
    "    # Filtro i dati per i punti e il prezzo minimo\n",
    "    filtered_data = vini_rari[(vini_rari['points'] == index) & (vini_rari['price'] == value)]\n",
    "    \n",
    "    # Concateno i dati filtrati al DataFrame esistente\n",
    "    vini_rari_marketplace = pd.concat([vini_rari_marketplace, filtered_data], axis=0, ignore_index=True)\n",
    "#vini_rari_marketplace"
   ]
  },
  {
   "cell_type": "markdown",
   "id": "b9f7d1d4-2607-418a-9f0e-75cdef1f26c1",
   "metadata": {},
   "source": [
    "### Vini Poco Comuni"
   ]
  },
  {
   "cell_type": "code",
   "execution_count": null,
   "id": "ef9338d5-b69d-4602-bfcc-e56680827ff7",
   "metadata": {},
   "outputs": [],
   "source": [
    "# Conto quante varietà di vini poco comuni esistono\n",
    "varietà_poco_comuni.count()"
   ]
  },
  {
   "cell_type": "code",
   "execution_count": null,
   "id": "36d213d3-11fd-4b57-9a0a-7a35da4eaf46",
   "metadata": {},
   "outputs": [],
   "source": [
    "# Li estraggo dal dataset completo\n",
    "vini_poco_comuni = dataset[dataset['variety'].isin(varietà_poco_comuni.index)]\n",
    "#vini_poco_comuni.sort_values('points', ascending = False).head(10)"
   ]
  },
  {
   "cell_type": "markdown",
   "id": "4aa4c11d-7eff-4e34-aae8-7d724b7fd48b",
   "metadata": {},
   "source": [
    "In questo caso si valutano i vini poco comuni, di questi voglio sempre i top di gamma e dunque seleziono i 5 score più elevati.\n",
    "Volendo però avere nel marketplace un numero di questi vini più elevato rispetto a quello dei vini rari ho deciso che per ogni punteggio prenderò un vino per ciascun paese e in caso di più vini dello stesso paese quello con il prezzo più basso, sempre per poter ottenere un miglior profitto. "
   ]
  },
  {
   "cell_type": "code",
   "execution_count": null,
   "id": "483292df-0539-499a-aab2-5c3312901572",
   "metadata": {},
   "outputs": [],
   "source": [
    "#Guardo i migliori score\n",
    "migliori_scores_vini_poco_comuni = np.sort(vini_poco_comuni.points.unique())[-5:]\n",
    "\n",
    "# Filtro i vini con i migliori punteggi\n",
    "migliori_vini_poco_comuni = vini_poco_comuni[vini_poco_comuni.points.isin(migliori_scores_vini_poco_comuni)]\n",
    "\n",
    "# Raggruppo per 'points', 'country' e 'price' e conta il numero di vini per ciascuna combinazione\n",
    "conteggio_vini_per_punteggio_country = migliori_vini_poco_comuni.groupby(['points', 'country', 'price']).size().reset_index(name='conteggio')\n",
    "\n",
    "# Ordino per 'points' e 'price' (all'interno di ogni punteggio)\n",
    "conteggio_vini_per_punteggio_country_sorted = conteggio_vini_per_punteggio_country.sort_values(['points', 'price'], ascending=[False, False])\n",
    "\n",
    "# Creo il grafico a barre\n",
    "fig = px.bar(conteggio_vini_per_punteggio_country_sorted, \n",
    "             x='points', \n",
    "             y='conteggio', \n",
    "             color='country',  # Dividi per paese (colorazione per paese)\n",
    "             hover_data={'price': True},  # Mostra il prezzo nel tooltip\n",
    "             title='Conteggio Vini Rari per Punteggio e Paese Ordinato per Prezzo', \n",
    "             labels={'points': 'Punteggio', 'conteggio': 'Conteggio Vini', 'country': 'Paese'},\n",
    "             width=800, height=600)\n",
    "\n",
    "# Mostro il grafico\n",
    "fig.show()\n"
   ]
  },
  {
   "cell_type": "code",
   "execution_count": null,
   "id": "a510fbf3-d211-47e9-80d2-16cd47002513",
   "metadata": {},
   "outputs": [],
   "source": [
    "vini_poco_comuni_marketplace = pd.DataFrame()\n",
    "# Itero attraverso ogni gruppo di punti\n",
    "# Voglio per ogni punteggio prendere il vino che costa meno per ogni paese. \n",
    "# Itero su ogni punteggio unico\n",
    "for p in conteggio_vini_per_punteggio_country.points.unique():\n",
    "    # Filtro il livello con il punteggio 'p'\n",
    "    p_level = conteggio_vini_per_punteggio_country[conteggio_vini_per_punteggio_country.points == p]\n",
    "    \n",
    "    # Raggruppo per paese e trova il prezzo minimo per ogni paese\n",
    "    group_country = p_level.groupby('country').min()\n",
    "    for index, row in group_country.iterrows():\n",
    "        country = index  # L'indice è il paese\n",
    "        price = row.iloc[1]  # Accedo al prezzo (seconda colonna)\n",
    "        \n",
    "        filtered_data = migliori_vini_poco_comuni[\n",
    "            (migliori_vini_poco_comuni['country'] == country) & \n",
    "            (migliori_vini_poco_comuni['price'] == price) & \n",
    "            (migliori_vini_poco_comuni['points'] == p)\n",
    "        ][:1] #A parità di punteggio, prezzo e paese ne prendo solo uno.\n",
    "        \n",
    "        # Aggiungo le righe selezionate al DataFrame finale\n",
    "        vini_poco_comuni_marketplace = pd.concat([vini_poco_comuni_marketplace, filtered_data], axis=0, ignore_index=True)\n",
    "# Visualizzo il DataFrame finale con i vini selezionati\n",
    "vini_poco_comuni_marketplace "
   ]
  },
  {
   "cell_type": "markdown",
   "id": "296ece64-b811-45cc-822f-53613e790380",
   "metadata": {},
   "source": [
    "### Vini Comuni"
   ]
  },
  {
   "cell_type": "code",
   "execution_count": null,
   "id": "2fd218dc-157a-43c4-9b6b-f1340788e86e",
   "metadata": {},
   "outputs": [],
   "source": [
    "# Conto quante varietà di vini comuni esistono\n",
    "varietà_comuni.count()"
   ]
  },
  {
   "cell_type": "code",
   "execution_count": null,
   "id": "c6de11c3-be1c-4c43-a5eb-85a2b7a52dd4",
   "metadata": {},
   "outputs": [],
   "source": [
    "# Li estraggo dal dataset completo\n",
    "vini_comuni = dataset[dataset['variety'].isin(varietà_comuni.index)]\n",
    "#vini_comuni.sort_values('points', ascending = False).head(10)"
   ]
  },
  {
   "cell_type": "markdown",
   "id": "c2d10266-56c4-4942-bbee-c276ab8bc946",
   "metadata": {},
   "source": [
    "Tra i vini comuni cerco di averne 3 per varietà con il miglior rapporto qualità/prezzo"
   ]
  },
  {
   "cell_type": "code",
   "execution_count": null,
   "id": "357c60ae-1da9-4b91-8f78-4c9bd4284560",
   "metadata": {},
   "outputs": [],
   "source": [
    "# Raggruppa per varietà e mostra i punteggi disponibili\n",
    " #Creo un box plot che mostra la distribuzione dei punteggi per varietà\n",
    "fig = px.box(vini_comuni, x=\"variety\", y=\"points\",\n",
    "             title=\"Distribuzione dei Punteggi per Varietà di Vino\",\n",
    "             labels={\"variety\": \"Varietà di Vino\", \"points\": \"Punteggio\"},\n",
    "             width=1000, height=600)\n",
    "\n",
    "fig.update_layout(xaxis_tickangle=45)\n",
    "\n",
    "# Visualizzo il grafico\n",
    "fig.show()\n"
   ]
  },
  {
   "cell_type": "code",
   "execution_count": null,
   "id": "a8222eb1-5ed9-4e1c-83b8-304848abd63f",
   "metadata": {},
   "outputs": [],
   "source": [
    "# Aggiungo una nuova colonna con il rapporto tra punti e prezzo\n",
    "vini_comuni['points_to_price'] = vini_comuni['points'] / vini_comuni['price']\n",
    "\n",
    "# Seleziono i 3 vini con il miglior rapporto per ciascuna varietà\n",
    "vini_comuni_marketplace = vini_comuni.sort_values('points_to_price', ascending=False) \\\n",
    "                                      .groupby('variety').head(3)\n",
    "\n",
    "# Visualizzo i vini selezionati\n",
    "vini_comuni_marketplace\n"
   ]
  },
  {
   "cell_type": "markdown",
   "id": "d0d25671-cb8b-4a8d-bf7e-7f82cfd6b40c",
   "metadata": {},
   "source": [
    "### Vini Popolari"
   ]
  },
  {
   "cell_type": "code",
   "execution_count": null,
   "id": "7ea6ae5d-0fcf-4301-96c3-9cfcaf93fc52",
   "metadata": {},
   "outputs": [],
   "source": [
    "# Conto quante varietà di vini comuni esistono\n",
    "varietà_popolari.count()"
   ]
  },
  {
   "cell_type": "code",
   "execution_count": null,
   "id": "334bdb4a-5755-4f8c-b75d-f67ff7bb92bd",
   "metadata": {},
   "outputs": [],
   "source": [
    "# Li estraggo dal dataset completo\n",
    "vini_popolari = dataset[dataset['variety'].isin(varietà_popolari.index)]\n",
    "#vini_popolari.sort_values('points', ascending = False).head(10)"
   ]
  },
  {
   "cell_type": "markdown",
   "id": "66ee1645-5601-43ca-b398-d22cc4b7f5a9",
   "metadata": {},
   "source": [
    "Tra i vini popolari cerco di averne 5 per varietà con il miglior rapporto qualità/prezzo"
   ]
  },
  {
   "cell_type": "code",
   "execution_count": null,
   "id": "6cd3bcd1-5de6-4352-8b1d-0c96c81532a5",
   "metadata": {},
   "outputs": [],
   "source": [
    "# Raggruppo per varietà e mostra i punteggi disponibili\n",
    " #Creo un box plot che mostra la distribuzione dei punteggi per varietà\n",
    "fig = px.box(vini_popolari, x=\"variety\", y=\"points\",\n",
    "             title=\"Distribuzione dei Punteggi per Varietà di Vino\",\n",
    "             labels={\"variety\": \"Varietà di Vino\", \"points\": \"Punteggio\"},\n",
    "             width=1000, height=600)\n",
    "\n",
    "fig.update_layout(xaxis_tickangle=45)\n",
    "\n",
    "# Visualizzo\n",
    "fig.show()\n"
   ]
  },
  {
   "cell_type": "code",
   "execution_count": null,
   "id": "b78cdae2-3231-43b6-a475-4477d44444b9",
   "metadata": {},
   "outputs": [],
   "source": [
    "# Aggiungo una nuova colonna con il rapporto tra punti e prezzo\n",
    "vini_popolari.loc[:, 'points_to_price'] = vini_popolari['points'] / vini_popolari['price']\n",
    "\n",
    "# Seleziono i 3 vini con il miglior rapporto per ciascuna varietà\n",
    "vini_popolari_marketplace = vini_popolari.sort_values('points_to_price', ascending=False) \\\n",
    "                                         .groupby('variety').head(5)\n",
    "\n",
    "# Visualizz i vini selezionati\n",
    "vini_popolari_marketplace\n"
   ]
  },
  {
   "cell_type": "markdown",
   "id": "b728140b-e93c-4f03-a399-2c60087b3951",
   "metadata": {},
   "source": [
    "### Creo il marketplace\n",
    "##### Concateno i quattro gruppi di vini appartenenti alle 4 fasce di popolarità selezionate"
   ]
  },
  {
   "cell_type": "code",
   "execution_count": null,
   "id": "6c73c9e5-1e3a-4c8f-bacd-30c2722ec529",
   "metadata": {},
   "outputs": [],
   "source": [
    "my_marketplace = pd.concat([vini_rari_marketplace, vini_poco_comuni_marketplace, vini_comuni_marketplace, vini_popolari_marketplace], ignore_index=True, axis = 0)"
   ]
  },
  {
   "cell_type": "code",
   "execution_count": null,
   "id": "5437cd3f-52e9-4f17-a925-bb4f63a0d6b3",
   "metadata": {},
   "outputs": [],
   "source": [
    "my_marketplace.info()"
   ]
  },
  {
   "cell_type": "code",
   "execution_count": null,
   "id": "ef3c2cb7-a1f7-4b0f-8455-57499bb073c4",
   "metadata": {},
   "outputs": [],
   "source": [
    "my_marketplace.describe(include='all')"
   ]
  },
  {
   "cell_type": "markdown",
   "id": "946f9ee6-96e5-41cd-94d7-3f5297b78150",
   "metadata": {},
   "source": [
    "### Mi assicuro di avere una vasta gamma di vini alla portata di tutti"
   ]
  },
  {
   "cell_type": "code",
   "execution_count": null,
   "id": "4f1d6c15-fbc4-4c35-8ea1-9d2ed70f6acd",
   "metadata": {},
   "outputs": [],
   "source": [
    "len(my_marketplace[my_marketplace.price < 10])"
   ]
  },
  {
   "cell_type": "markdown",
   "id": "65a840cd-c5e0-4461-a3c1-3c5bac5a8752",
   "metadata": {},
   "source": [
    "### Do uno sguardo alle distribuzioni di prezzo, punteggio e varietà nel mio marketplace"
   ]
  },
  {
   "cell_type": "code",
   "execution_count": null,
   "id": "11dee526-5ee6-4738-8b41-9f0a37bb93e0",
   "metadata": {},
   "outputs": [],
   "source": [
    "# Creo una figura con 2 riga e 2 colonne per rappresentare i tre grafici in un unico output.\n",
    "# Questo può facilitare la visualizzazione e il confronto tra i grafici\n",
    "fig = make_subplots(\n",
    "    rows=2, cols=2, \n",
    "    subplot_titles=(\"Distribuzione dei Prezzi\", \"Distribuzione dei Punteggi\", \"Distribuzione varietà\", \"Provenienza dei vini\"),\n",
    "    shared_yaxes=False  # Non condividere gli assi Y\n",
    ")\n",
    "\n",
    "#Violino\n",
    "fig_violino = px.violin(my_marketplace, y=\"price\", points=\"all\", labels={\"price\": \"Prezzo\"})\n",
    "# Aggiungo il grafico a violino alla figura\n",
    "for trace in fig_violino.data:\n",
    "    fig.add_trace(trace, row=1, col=1)\n",
    "# Aggungo i titoli agli assi del grafico a violino\n",
    "fig.update_xaxes(title_text=\"Distribuzione dei Prezzi\", row=1, col=1)\n",
    "fig.update_yaxes(title_text=\"Frequenza\", row=1, col=1)\n",
    "\n",
    "#Istogramma\n",
    "fig_hist = px.histogram(my_marketplace, x=\"points\", nbins=30, histnorm='density', opacity=0.6, labels={\"points\": \"Punteggio\"})\n",
    "# Aggiungo l'istogramma alla figura\n",
    "for trace in fig_hist.data:\n",
    "    fig.add_trace(trace, row=1, col=2)\n",
    "# Aggiungo i titoli agli assi dell'istogramma\n",
    "fig.update_xaxes(title_text=\"Punteggio\", row=1, col=2)\n",
    "fig.update_yaxes(title_text=\"Densità\", row=1, col=2)\n",
    "\n",
    "#Barplot \n",
    "groups_variety = my_marketplace.groupby(\"variety\").size()\n",
    "sorted_groups_variety = groups_variety.sort_values(ascending=True)\n",
    "# Creo un grafico a barre verticale\n",
    "fig_bar = px.bar(sorted_groups_variety, \n",
    "             y=sorted_groups_variety.index,  \n",
    "             x=sorted_groups_variety.values,  \n",
    "             title=\"Varietà disponibili\")\n",
    "\n",
    "# Disabilito la legenda\n",
    "fig_bar.update_layout(showlegend=False,\n",
    "                  xaxis_title = 'Numero produttori')\n",
    "\n",
    "# Aggiungo il bar plot alla figura\n",
    "for trace in fig_bar.data:\n",
    "    fig.add_trace(trace, row=2, col=1)\n",
    "\n",
    "# Aggiungo i titoli agli assi del bar plot\n",
    "fig.update_xaxes(title_text=\"Frequenza\", row=2, col=1)\n",
    "fig.update_yaxes(title_text=\"Varietà\", row=2, col=1)\n",
    "\n",
    "# Distribuzione per paese\n",
    "# Suddivido i vini per 'country'\n",
    "groups_country = my_marketplace.groupby(\"country\").size()\n",
    "# Creo un grafico a barre per visualizzare la distribuzione\n",
    "fig_paese = px.bar(groups_country.sort_values(ascending = False),title=\"Vini per paese\")\n",
    "fig_paese.update_layout(showlegend=False)\n",
    "\n",
    "# Aggiungo il plot alla figura\n",
    "for trace in fig_paese.data:\n",
    "    fig.add_trace(trace, row=2, col=2)\n",
    "\n",
    "\n",
    "# Miglioramenti alla leggibilità\n",
    "fig.update_layout(\n",
    "    showlegend=False,\n",
    "    width=1000,  # Larghezza complessiva della figura\n",
    "    height=1200, # Altezza della figura\n",
    "    title=\"Analisi della Distribuzione dei Prezzi e Punteggi\"\n",
    ")\n",
    "\n",
    "# Mostro il grafico\n",
    "fig.show()"
   ]
  },
  {
   "cell_type": "markdown",
   "id": "fa56298b-8842-4d98-8d3f-7d680774ce1f",
   "metadata": {},
   "source": [
    "L’analisi complessiva suggerisce che questo negozio offre una selezione di vini ampia e bilanciata. I prezzi coprono un’ampia gamma, con un focus su bottiglie accessibili, ma con alcune proposte di lusso per i clienti più esigenti. La qualità è mediamente alta, come indicato dai punteggi, e la varietà soddisfa sia chi cerca etichette tradizionali sia chi desidera esplorare vini meno conosciuti. Nel complesso, si tratta di un’offerta curata e variegata, capace di attrarre un pubblico diversificato, dagli appassionati ai grandi intenditori."
   ]
  },
  {
   "cell_type": "code",
   "execution_count": null,
   "id": "df697853-c4d3-4cf9-9a70-faad51b7bfae",
   "metadata": {},
   "outputs": [],
   "source": []
  }
 ],
 "metadata": {
  "kernelspec": {
   "display_name": "Python 3 (ipykernel)",
   "language": "python",
   "name": "python3"
  },
  "language_info": {
   "codemirror_mode": {
    "name": "ipython",
    "version": 3
   },
   "file_extension": ".py",
   "mimetype": "text/x-python",
   "name": "python",
   "nbconvert_exporter": "python",
   "pygments_lexer": "ipython3",
   "version": "3.12.7"
  }
 },
 "nbformat": 4,
 "nbformat_minor": 5
}

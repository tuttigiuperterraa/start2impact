{
 "cells": [
  {
   "cell_type": "code",
   "execution_count": 7,
   "id": "548ad7d3-68de-4c57-983a-f9759b7e3a18",
   "metadata": {},
   "outputs": [
    {
     "name": "stdout",
     "output_type": "stream",
     "text": [
      "Ho 28 anni.\n"
     ]
    }
   ],
   "source": [
    "# Definisci una variabile numerica che contenga la tua età e visualizzala\n",
    "età = 28\n",
    "print(\"Ho\", età, \"anni.\")"
   ]
  },
  {
   "cell_type": "code",
   "execution_count": 9,
   "id": "7080559b-90ae-44b6-8670-8215f1d20409",
   "metadata": {},
   "outputs": [
    {
     "name": "stdout",
     "output_type": "stream",
     "text": [
      "Mi chiamo Giulia .\n"
     ]
    }
   ],
   "source": [
    "# Definisci una variabile stringa che contenga il tuo nome e visualizzala\n",
    "nome = \"Giulia\"\n",
    "print(\"Mi chiamo\", nome, \".\")"
   ]
  },
  {
   "cell_type": "markdown",
   "id": "155e7d09-fd36-4837-8ce5-ca0638185eff",
   "metadata": {},
   "source": [
    "## Esercizio\n",
    "1.dichiarare due variabili numeriche  \n",
    "2.eseguire un'operazione qualsiasi che le coinvolga  \n",
    "3.salvare il risultato in un terza variabile  \n",
    "4.stampare il risultato nella forma Il risultato è ... ed è di tipo ...  \n",
    "5.se il risultato è un float, stampare solo le prime 3 cifre decimali  \n",
    "6.commentare le righe del codice con il significato delle azioni corrispondenti  "
   ]
  },
  {
   "cell_type": "code",
   "execution_count": 28,
   "id": "da8e7f75-2e64-471a-8a75-008bf5ad5801",
   "metadata": {},
   "outputs": [],
   "source": [
    "# 1. dichiarare due variabili numeriche\n",
    "a = 1\n",
    "b =3"
   ]
  },
  {
   "cell_type": "code",
   "execution_count": 42,
   "id": "fe6f2113-5a3b-44fd-a0a9-ff9ad0dfe66e",
   "metadata": {},
   "outputs": [],
   "source": [
    "# 2. eseguire un'operazione qualsiasi che le coinvolga\n",
    "# 3. salvare il risultato in un terza variabile\n",
    "c = a / b  # 6. creo una variabile c che contiene il valore della divisione a / b"
   ]
  },
  {
   "cell_type": "code",
   "execution_count": 46,
   "id": "fdbda7a4-b8ab-425f-b810-dffb16edadb9",
   "metadata": {},
   "outputs": [
    {
     "name": "stdout",
     "output_type": "stream",
     "text": [
      "il risultato è 0.3333333333333333 ed è di tipo <class 'float'>\n",
      "il risultato è 0.3333333333333333 ed è di tipo <class 'float'>\n"
     ]
    }
   ],
   "source": [
    "# 4. stampare il risultato nella forma Il risultato è ... ed è di tipo ...\n",
    "print(f\"il risultato è {c} ed è di tipo {type(c)}\")  # 6. stampo il risultato utilizzando F-string\n",
    "print(\"il risultato è {} ed è di tipo {}\".format(c,type(c)))  # 6. stampo il risultato utilizzando il metodo .format()"
   ]
  },
  {
   "cell_type": "code",
   "execution_count": 54,
   "id": "d61dee77-74d3-46c5-b5cb-023bc1494a9b",
   "metadata": {},
   "outputs": [
    {
     "name": "stdout",
     "output_type": "stream",
     "text": [
      "il risultato è 0.33 ed è di tipo <class 'float'>\n",
      "il risultato è 0.33 ed è di tipo <class 'float'>\n"
     ]
    }
   ],
   "source": [
    "# 5. se il risultato è un float, stampare solo le prime 3 cifre decimali\n",
    "print(f\"il risultato è {c:.2f} ed è di tipo {type(c)}\")  # 6. stampo il risultato utilizzando F-string\n",
    "print(\"il risultato è {:.2f} ed è di tipo {}\".format(c, type(c)))  # 6. stampo il risultato utilizzando il metodo .format()"
   ]
  },
  {
   "cell_type": "markdown",
   "id": "2427d0d4-6330-48ba-9a73-7a883fa4155b",
   "metadata": {},
   "source": [
    "## Esercizi Funzioni"
   ]
  },
  {
   "cell_type": "code",
   "execution_count": 6,
   "id": "93208fc5-a645-40a5-9c8d-da624ad98073",
   "metadata": {},
   "outputs": [],
   "source": [
    "# 1. Scrivi una funzione che prende una lista di numeri e restituisce la somma di tutti gli elementi.\n",
    "def somma_lista(lista):\n",
    "    sum = 0\n",
    "    for n in vettore:\n",
    "        sum  = sum + n\n",
    "    return sum"
   ]
  },
  {
   "cell_type": "code",
   "execution_count": 16,
   "id": "d4d8b597-01cb-43da-88ca-4284daeac009",
   "metadata": {},
   "outputs": [],
   "source": [
    "# 2. Scrivi una funzione che prende una stringa e restituisce la stringa invertita.\n",
    "def inverti(stringa):\n",
    "    inversa = ''\n",
    "    indice = len(stringa) -1\n",
    "    while indice >= 0:\n",
    "        inversa += stringa[indice]\n",
    "        indice -= 1\n",
    "    return inversa"
   ]
  },
  {
   "cell_type": "code",
   "execution_count": 28,
   "id": "67d3401b-76ba-4754-b40d-881ae73d866b",
   "metadata": {},
   "outputs": [],
   "source": [
    "# 3. Scrivi una funzione che prende una lista di parole e restituisce una lista contenente solo le parole che iniziano con una lettera specificata.\n",
    "def screma(lista, chr):\n",
    "    new_list = []\n",
    "    for n in lista:\n",
    "        if n[0] == chr:\n",
    "            new_list.append(n)\n",
    "    return new_list"
   ]
  },
  {
   "cell_type": "code",
   "execution_count": 36,
   "id": "fec5dfc1-2cbb-4f51-9363-2459b9e64f3c",
   "metadata": {},
   "outputs": [],
   "source": [
    "# 4. Scrivi una funzione che prende una lista di numeri e restituisce una lista contenente solo i numeri pari.\n",
    "def screma_pari(lista):\n",
    "    new_list = []\n",
    "    for n in lista:\n",
    "        if n%2 == 0:\n",
    "            new_list.append(n)\n",
    "    return new_list"
   ]
  },
  {
   "cell_type": "code",
   "execution_count": 40,
   "id": "43097532-9c6c-4f3e-adee-5737f8f289ae",
   "metadata": {},
   "outputs": [],
   "source": [
    "# 5. Scrivi una funzione che prende una lista di parole e restituisce una lista contenente la lunghezza di ciascuna parola.\n",
    "def len_for_element(lista):\n",
    "    lens = []\n",
    "    for n in lista:\n",
    "        lens.append(len(n))\n",
    "    return lens"
   ]
  },
  {
   "cell_type": "code",
   "execution_count": 46,
   "id": "93f3c950-b74a-4715-9958-e2cce74d9ee7",
   "metadata": {},
   "outputs": [],
   "source": [
    "# 6. Scrivi una funzione che prende una lista di numeri e restituisce il valore massimo.\n",
    "def max_func(lista):\n",
    "    max = lista[0]\n",
    "    for n in lista:\n",
    "        if n > max:\n",
    "            max = n\n",
    "    return max"
   ]
  },
  {
   "cell_type": "code",
   "execution_count": 52,
   "id": "321f6213-23c4-4cdd-a34a-2ccf86a8dec2",
   "metadata": {},
   "outputs": [],
   "source": [
    "# 7. Scrivi una funzione che prende una lista di parole e restituisce la parola più lunga.\n",
    "def longest(lista):\n",
    "    lst = lista[0]\n",
    "    for n in lista:\n",
    "        if len(n) > len(lst):\n",
    "            lst = n\n",
    "    return lst"
   ]
  },
  {
   "cell_type": "code",
   "execution_count": 58,
   "id": "fa8bfdfe-c0c1-4e3d-9372-008a31d89b6d",
   "metadata": {},
   "outputs": [],
   "source": [
    "# 8. Scrivi una funzione che prende una lista di numeri e restituisce la media dei numeri.\n",
    "def media(lista):\n",
    "    n = len(lista)\n",
    "    sum = 0\n",
    "    for n in lista:\n",
    "        sum += n\n",
    "    return sum/n"
   ]
  },
  {
   "cell_type": "code",
   "execution_count": 62,
   "id": "e80817fd-d487-4413-a7cc-da201afa63ff",
   "metadata": {},
   "outputs": [],
   "source": [
    "# 9. Scrivi una funzione che prende una lista di parole e restituisce una lista contenente solo le parole palindrome.\n",
    "def palindrome(lista):\n",
    "    palindrome = []\n",
    "    for n in lista:\n",
    "        palindroma = ''\n",
    "        index = len(n) -1\n",
    "        while index >= 0:\n",
    "            palindroma += n[index]\n",
    "            index -= 1\n",
    "        if palindroma == n:\n",
    "            palindrome.append(palindroma)\n",
    "    return palindrome"
   ]
  },
  {
   "cell_type": "code",
   "execution_count": 68,
   "id": "0d2978b7-9591-49c8-a3c8-c9fa5c3dbe2b",
   "metadata": {},
   "outputs": [],
   "source": [
    "# 10. Scrivi una funzione che prende una lista di numeri e restituisce una lista contenente solo i numeri maggiori di un valore specificato.\n",
    "def maggiori(lista, n):\n",
    "    maggiori = []\n",
    "    for m in lista:\n",
    "        if m > n:\n",
    "            maggiori.append(m)\n",
    "    return maggiori"
   ]
  },
  {
   "cell_type": "markdown",
   "id": "ebff97d4-ed41-4116-88b3-5c237eebbad5",
   "metadata": {},
   "source": [
    "## Esercizi - Tipi booleani e istruzioni condizionali\n",
    "\n",
    "Metti in pratica quanto imparato provando a svolgere questi esercizi:  \n",
    "\n",
    "1. Scrivi un programma che richieda all'utente di inserire la propria età e quindi di determinare se è idoneo a votare in base al limite di età per il voto.  \n",
    "2. Crea un programma che chieda all'utente di inserire un numero e quindi stampi se il numero è positivo, negativo o zero."
   ]
  },
  {
   "cell_type": "code",
   "execution_count": 91,
   "id": "d2d7a095-fbe4-4569-a8f6-bf5fa115eda4",
   "metadata": {},
   "outputs": [
    {
     "name": "stdin",
     "output_type": "stream",
     "text": [
      "Inserisci la tua età 55\n"
     ]
    },
    {
     "name": "stdout",
     "output_type": "stream",
     "text": [
      "Puoi votare!\n"
     ]
    }
   ],
   "source": [
    "# 1. Scrivi un programma che richieda all'utente di inserire la propria età e quindi di determinare se è idoneo a votare in base al limite di età per il voto.\n",
    "def votante():\n",
    "    età = int(input(\"Inserisci la tua età\"))\n",
    "    if età >= 18:\n",
    "        print(\"Puoi votare!\")\n",
    "    else:\n",
    "        print(\"Non puoi votare!\")\n",
    "\n",
    "votante()"
   ]
  },
  {
   "cell_type": "code",
   "execution_count": 83,
   "id": "60dcb08a-d615-408f-b7cd-35ef95cc8fd7",
   "metadata": {},
   "outputs": [
    {
     "name": "stdin",
     "output_type": "stream",
     "text": [
      "Inserisci un numero intero 0\n"
     ]
    },
    {
     "name": "stdout",
     "output_type": "stream",
     "text": [
      "il numero inserito è zero\n"
     ]
    }
   ],
   "source": [
    "# 2. Crea un programma che chieda all'utente di inserire un numero e quindi stampi se il numero è positivo, negativo o zero.\n",
    "def che_numero_è():\n",
    "    numero = int(input(\"Inserisci un numero intero\"))\n",
    "    if numero > 0:\n",
    "        print(\"il numero inserito è positivo\")\n",
    "    elif numero < 0:\n",
    "        print(\"il numero inserito è negativo\")\n",
    "    else:\n",
    "        print(\"il numero inserito è zero\")\n",
    "\n",
    "che_numero_è()"
   ]
  },
  {
   "cell_type": "markdown",
   "id": "7d4a170c-a70d-4863-9fc3-1f74996b1c99",
   "metadata": {},
   "source": [
    "## Esercizio 1\n",
    "Iterando su una lista di numeri interi,  \n",
    "\n",
    "se il quadrato del numero corrente è multiplo sia di 2 che di 3, stampare Il quadrato di ... è ..., che è multiplo sia di 2 che di 3   \n",
    "se il quadrato del numero corrente è multiplo di 2 ma non di 3, stampare Il quadrato di ... è ..., che è multiplo di 2 ma non di 3  \n",
    "se il quadrato del numero corrente è multiplo di 3 ma non di 2, stampare Il quadrato di ... è ..., che è multiplo di 3 ma non di 2  \n",
    "se il quadrato del numero corrente non è multiplo né di 2 né di 3, stampare Il quadrato di ... è ..., che non è multiplo né di 2 né di 3"
   ]
  },
  {
   "cell_type": "code",
   "execution_count": 96,
   "id": "18ac0e46-0684-487a-aff5-5ca59beed241",
   "metadata": {},
   "outputs": [
    {
     "name": "stdout",
     "output_type": "stream",
     "text": [
      "Il quadrato di 3 è 9 che è multiplo di 3 ma non di 2\n",
      "Il quadrato di 6 è 36 che è multiplo sia di 2 che di 3\n",
      "Il quadrato di 5 è 25 che non è multiplo né di 2 né di 3\n",
      "Il quadrato di 8 è 64 che è multiplo di 2 ma non di 3\n",
      "Il quadrato di 12 è 144 che è multiplo sia di 2 che di 3\n"
     ]
    }
   ],
   "source": [
    "lst = [3, 6, 5, 8, 12]\n",
    "\n",
    "for n in lst:\n",
    "    if n**2 % 2 == 0:\n",
    "        if n**2 % 3 == 0:\n",
    "            print(f\"Il quadrato di {n} è {n**2} che è multiplo sia di 2 che di 3\")\n",
    "        else:\n",
    "            print(f\"Il quadrato di {n} è {n**2} che è multiplo di 2 ma non di 3\")\n",
    "    elif n**2 % 3 == 0:\n",
    "        print(f\"Il quadrato di {n} è {n**2} che è multiplo di 3 ma non di 2\")\n",
    "    else:\n",
    "        print(f\"Il quadrato di {n} è {n**2} che non è multiplo né di 2 né di 3\")\n"
   ]
  },
  {
   "cell_type": "markdown",
   "id": "56465029-7e28-416c-9149-ad84416a0435",
   "metadata": {},
   "source": [
    "## Esercizio 2\n",
    "A partire dalla lista di numeri dell'esercizio precedente,  \n",
    "\n",
    "derivare la lista dei quadrati che sono multipli di 2  \n",
    "derivare la lista dei quadrati che sono multipli di 3  \n",
    "derivare la lista dei quadrati che sono multipli di 2 e non di 3"
   ]
  },
  {
   "cell_type": "code",
   "execution_count": 107,
   "id": "f51a95be-1fb6-4cc4-92c0-65ec6697d281",
   "metadata": {},
   "outputs": [
    {
     "name": "stdout",
     "output_type": "stream",
     "text": [
      "[64]\n",
      "[9]\n",
      "[36, 144]\n"
     ]
    }
   ],
   "source": [
    "lst = [3, 6, 5, 8, 12]\n",
    "multipli2 = []\n",
    "multipli3 = []\n",
    "multipli2e3 = []\n",
    "for n in lst:\n",
    "    if n**2 % 2 == 0:\n",
    "        if n**2 % 3 == 0:\n",
    "            multipli2e3.append(n**2)\n",
    "        else:\n",
    "            multipli2.append(n**2)\n",
    "    elif n**2 % 3 == 0:\n",
    "        multipli3.append(n**2)\n",
    "\n",
    "print(multipli2)\n",
    "print(multipli3)\n",
    "print(multipli2e3)"
   ]
  },
  {
   "cell_type": "markdown",
   "id": "325172ac-b788-42e2-9007-90a37c1d46b0",
   "metadata": {},
   "source": [
    "## Esercizio:  \n",
    "Stampare il voto medio col formato qui sopra, usando (anche) la funzione sum."
   ]
  },
  {
   "cell_type": "code",
   "execution_count": 4,
   "id": "1ea09982-85f7-4507-8eeb-a21232bb87c2",
   "metadata": {},
   "outputs": [
    {
     "name": "stdout",
     "output_type": "stream",
     "text": [
      "voto minimo: 22\n",
      "voto massimo: 30\n",
      "voto medio: 27.0\n"
     ]
    }
   ],
   "source": [
    "grades = [28, 25, 22, 30, 30, 28, 26]\n",
    "print('voto minimo:', min(grades))\n",
    "print('voto massimo:', max(grades))\n",
    "print('voto medio:', sum(grades)/len(grades))"
   ]
  },
  {
   "cell_type": "markdown",
   "id": "9b1d71fb-fea5-4e5c-80de-d72326f89f6f",
   "metadata": {},
   "source": [
    "## Esercizio  \n",
    "Giocare un po' con le liste e con le operazioni che abbiamo visto:  \n",
    "\n",
    "1. creare una lista vuota e riempirla  \n",
    "2. inserirci, modificarne e cancellarne elementi  \n",
    "3. concatenarla con un'altra lista  \n",
    "4. inserirle un'altra lista come nuovo elemento  \n",
    "5. ordinarla in modo naturale e inverso  \n",
    "6. estrarne delle porzioni e assegnarle a variabili differenti  \n",
    "7. ricombinare le porzioni ottenute  "
   ]
  },
  {
   "cell_type": "code",
   "execution_count": 11,
   "id": "9e85539a-0043-4739-ae9c-d9ebc7d1b8bc",
   "metadata": {},
   "outputs": [
    {
     "name": "stdout",
     "output_type": "stream",
     "text": [
      "[]\n",
      "['Elemento 1', 'Elemento 2', 'Terzo', 'Quarto', 'Quinto', 6, 7]\n"
     ]
    }
   ],
   "source": [
    "# 1. creare una lista vuota e riempirla\n",
    "lista = []\n",
    "print(lista)\n",
    "lista += [\"Elemento 1\"]\n",
    "lista += [\"Elemento 2\"]\n",
    "lista += [\"Terzo\"]\n",
    "lista += [\"Quarto\"]\n",
    "lista += [\"Quinto\", 6, 7]\n",
    "print(lista)"
   ]
  },
  {
   "cell_type": "code",
   "execution_count": 21,
   "id": "3ba08721-1fca-44ba-aac9-fa8dd8e48ca2",
   "metadata": {},
   "outputs": [
    {
     "name": "stdout",
     "output_type": "stream",
     "text": [
      "[1, 2, 3, 'Quarto', 'Quinto', 6, 7, 'Quarto', 'Quinto', 6, 7, 'Quarto', 'Quinto', 6, 'Quarto', 'Quinto', 6, 'Quarto', 'Quinto', 6, 'Quarto', 'Quinto', 6, 7]\n",
      "[1, 2, 3, 'Quarto', 'Quinto', 6, 7, 'Quarto', 'Quinto', 6, 7, 'Quarto', 'Quinto', 6, 'Quarto', 'Quinto', 6, 'Quarto', 'Quinto', 6, 'Quarto', 'Quinto', 6]\n",
      "[2, 3, 'Quarto', 'Quinto', 6, 7, 'Quarto', 'Quinto', 6, 7, 'Quarto', 'Quinto', 6, 'Quarto', 'Quinto', 6, 'Quarto', 'Quinto', 6, 'Quarto', 'Quinto', 6]\n"
     ]
    }
   ],
   "source": [
    "# 2. inserirci, modificarne e cancellarne elementi\n",
    "lista[0] = 1\n",
    "lista[1] = 2\n",
    "lista[2] = 3\n",
    "lista += [\"Quarto\"]\n",
    "lista += [\"Quinto\", 6, 7]\n",
    "print(lista)\n",
    "lista.pop()\n",
    "print(lista)\n",
    "lista.remove(1)\n",
    "print(lista)"
   ]
  },
  {
   "cell_type": "code",
   "execution_count": 25,
   "id": "ccd15de0-b46d-47af-9e9d-ca428e87760c",
   "metadata": {},
   "outputs": [
    {
     "name": "stdout",
     "output_type": "stream",
     "text": [
      "[1, 2, 3, 4]\n",
      "[2, 3, 'Quarto', 'Quinto', 6, 7, 'Quarto', 'Quinto', 6, 7, 'Quarto', 'Quinto', 6, 'Quarto', 'Quinto', 6, 'Quarto', 'Quinto', 6, 'Quarto', 'Quinto', 6, 1, 2, 3, 4, 1, 2, 3, 4]\n"
     ]
    }
   ],
   "source": [
    "# 3. concatenarla con un'altra lista\n",
    "lista_2 = [1,2,3,4]\n",
    "print(lista_2)\n",
    "lista += lista_2\n",
    "print(lista)"
   ]
  },
  {
   "cell_type": "code",
   "execution_count": 27,
   "id": "35d34a7d-ffa2-4059-a76f-3a2b49d26338",
   "metadata": {},
   "outputs": [
    {
     "name": "stdout",
     "output_type": "stream",
     "text": [
      "[2, 3, 'Quarto', 'Quinto', 6, 7, 'Quarto', 'Quinto', 6, 7, 'Quarto', 'Quinto', 6, 'Quarto', 'Quinto', 6, 'Quarto', 'Quinto', 6, 'Quarto', 'Quinto', 6, 1, 2, 3, 4, 1, 2, 3, 4, [1, 2, 3, 4]]\n"
     ]
    }
   ],
   "source": [
    "# 4. inserirle un'altra lista come nuovo elemento\n",
    "lista += [lista_2]\n",
    "print(lista)"
   ]
  },
  {
   "cell_type": "code",
   "execution_count": 45,
   "id": "6bbd66d3-ee4c-4701-94e2-8b34285fc9df",
   "metadata": {},
   "outputs": [
    {
     "name": "stdout",
     "output_type": "stream",
     "text": [
      "[1, 2, 8, 11, 3, 12, 22, 3, 31]\n",
      "[1, 2, 3, 3, 8, 11, 12, 22, 31]\n",
      "[1, 2, 3, 3, 8, 11, 12, 22, 31]\n",
      "[31, 22, 12, 11, 8, 3, 3, 2, 1]\n"
     ]
    }
   ],
   "source": [
    "# 5. ordinarla in modo naturale e inverso\n",
    "lista = [1,2,8,11,3,12,22,3,31]\n",
    "print(lista)\n",
    "lista.sort()\n",
    "print(lista)\n",
    "sorted(lista, reverse=True)\n",
    "print(lista)\n",
    "print(sorted(lista, reverse=True))"
   ]
  },
  {
   "cell_type": "code",
   "execution_count": 49,
   "id": "c71f94aa-0441-4b08-9f43-f02f993bc7ab",
   "metadata": {},
   "outputs": [
    {
     "name": "stdout",
     "output_type": "stream",
     "text": [
      "1\n",
      "31\n",
      "[1, 2, 3]\n"
     ]
    }
   ],
   "source": [
    "# 6. estrarne delle porzioni e assegnarle a variabili differenti\n",
    "a = lista[0]\n",
    "b = lista[-1]\n",
    "c = lista[:3]\n",
    "print(a)\n",
    "print(b)\n",
    "print(c)"
   ]
  },
  {
   "cell_type": "code",
   "execution_count": 57,
   "id": "9858e12b-0baf-4d7d-a8f0-7c3046f153d4",
   "metadata": {},
   "outputs": [
    {
     "name": "stdout",
     "output_type": "stream",
     "text": [
      "[1, 31, 1, 2, 3]\n"
     ]
    }
   ],
   "source": [
    "# 7. ricombinare le porzioni ottenute\n",
    "lista = []\n",
    "lista.append(a)\n",
    "lista.append(b)\n",
    "lista += c\n",
    "print(lista)"
   ]
  },
  {
   "cell_type": "markdown",
   "id": "59bc793e-996d-4722-ba04-07d3878921f2",
   "metadata": {},
   "source": [
    "## Esercizio \n",
    "creare una lista di numeri interi, float o misti  \n",
    "iterare sui numeri della lista, stampandoli insieme al loro indice   \n",
    "inserire in una lista di appoggio i quadrati dei numeri della lista  \n",
    "stampare la nuova lista per verificarne contenuto  \n",
    "come buona pratica, commentare il codice"
   ]
  },
  {
   "cell_type": "code",
   "execution_count": 70,
   "id": "1ee7daf9-4ee0-447f-8a4b-7ac0f0fb10b3",
   "metadata": {},
   "outputs": [
    {
     "name": "stdout",
     "output_type": "stream",
     "text": [
      "[1, 2, 2.5, 3, 3.5]\n",
      "alla possizione 0 trovo il numero 1\n",
      "alla possizione 1 trovo il numero 2\n",
      "alla possizione 2 trovo il numero 2.5\n",
      "alla possizione 3 trovo il numero 3\n",
      "alla possizione 4 trovo il numero 3.5\n",
      "[1, 4, 6.25, 9, 12.25]\n"
     ]
    }
   ],
   "source": [
    "# creo una lista di numeri interi e float\n",
    "numeri = [1,2,2.5,3,3.5]\n",
    "print(numeri)\n",
    "\n",
    "# stampo iterando i numeri della lista con il loro indice\n",
    "i = 0\n",
    "while i < len(numeri):\n",
    "    print(f\"alla possizione {i} trovo il numero {numeri[i]}\")\n",
    "    i += 1\n",
    "    \n",
    "# creo una lista con i quadrati della lista numeri\n",
    "quadrati = [n**2 for n in numeri]   \n",
    "print(quadrati)"
   ]
  },
  {
   "cell_type": "markdown",
   "id": "29f3b2da-21a6-49d7-812b-66d2400ad61b",
   "metadata": {},
   "source": [
    "## Esercizio 5\n",
    "La comprensione di lista può essere combinata all'enumerazione:\n",
    "\n",
    "    [f(index, element) for index, element in enumerate(list)]\n",
    "\n",
    "indexed_names = [[i, n] for i, n in enumerate(names)]  \n",
    "\n",
    "indexed_names  \n",
    "[[0, 'francesco'],  \n",
    " [1, 'elisa'],  \n",
    " [2, 'alessandro'],  \n",
    " [3, 'giovanni'],  \n",
    " [4, 'maria teresa']]  \n",
    "Ripetere l'enumerazione della cella precedente stampando i nomi in ordine alfabetico. Suggerimento: è sufficiente una riga di codice."
   ]
  },
  {
   "cell_type": "code",
   "execution_count": 83,
   "id": "987c05d6-1cd2-4fc9-b299-88120eaf8537",
   "metadata": {},
   "outputs": [
    {
     "name": "stdout",
     "output_type": "stream",
     "text": [
      "[[0, 'alessandro'], [1, 'elisa'], [2, 'francesco'], [3, 'giovanni'], [4, 'maria teresa']]\n"
     ]
    }
   ],
   "source": [
    "names = ['francesco', 'elisa', 'alessandro', 'giovanni', 'maria teresa']\n",
    "ordered_names = [[i,n] for i,n in enumerate(sorted(names)) ]\n",
    "print(ordered_names)"
   ]
  },
  {
   "cell_type": "markdown",
   "id": "44152bc0-cd1b-457e-9f23-73cd7b0da6b3",
   "metadata": {},
   "source": [
    "## Esercizio #1  \n",
    "Utilizzando il ciclo for stampa una stringa con tutti i numeri divisibili per 9 in un range di 100."
   ]
  },
  {
   "cell_type": "code",
   "execution_count": 108,
   "id": "584e3e6b-4011-435a-8bba-53de2b0cd331",
   "metadata": {},
   "outputs": [
    {
     "name": "stdout",
     "output_type": "stream",
     "text": [
      "0,9,18,27,36,45,54,63,72,81,90,99\n"
     ]
    }
   ],
   "source": [
    "new = []\n",
    "for num in range(100):\n",
    "    if num %9 == 0:\n",
    "        new.append(str(num))\n",
    "print(','.join(new))"
   ]
  },
  {
   "cell_type": "markdown",
   "id": "5215e514-002b-4af2-a8f3-ca61b7a741b6",
   "metadata": {},
   "source": [
    "## Esercizio #2\n",
    "Data la seguente lista:\n",
    "\n",
    "l = [1, 3, 4, 5, 6, 9, 10, 17, 23, 24]  \n",
    "Togli tutti i numeri dispari e stampa una lista con solo i numeri pari."
   ]
  },
  {
   "cell_type": "code",
   "execution_count": 122,
   "id": "466fb9b1-014c-4f8d-969f-fb9ba72d72c6",
   "metadata": {},
   "outputs": [
    {
     "name": "stdout",
     "output_type": "stream",
     "text": [
      "[4, 6, 10, 24]\n"
     ]
    }
   ],
   "source": [
    "l = [1, 3, 4, 5, 6, 9, 10, 17, 23, 24]\n",
    "ris = []\n",
    "for n in l:\n",
    "    if n % 2 == 0:\n",
    "        ris.append(n)\n",
    "print(ris)"
   ]
  },
  {
   "cell_type": "markdown",
   "id": "b31ad2ab-6d16-4de3-bc03-4a2ef8a410a1",
   "metadata": {},
   "source": [
    "## Esercizio #3\n",
    "Scrivere un programma che dal testo dato:  \n",
    "\n",
    "testo = \"Python è un linguaggio di programmazione molto popolare\"  \n",
    "Estrai le prime quattro parole. Standardizzale, cioè sostituisci le lettere maiuscole con lettere minuscole. Presenta il risultato in una lista e stampalo sulla console"
   ]
  },
  {
   "cell_type": "code",
   "execution_count": 133,
   "id": "f8789b51-1ca6-4fa2-ab98-8a73a83d7465",
   "metadata": {},
   "outputs": [
    {
     "name": "stdout",
     "output_type": "stream",
     "text": [
      "['python', 'è', 'un', 'linguaggio']\n"
     ]
    }
   ],
   "source": [
    "testo = \"Python è un linguaggio di programmazione molto popolare\"\n",
    "parole = testo.split()\n",
    "lista = []\n",
    "i = 0\n",
    "while i <= 3:\n",
    "    lista.append(parole[i].lower())\n",
    "    i += 1\n",
    "print(lista)"
   ]
  },
  {
   "cell_type": "markdown",
   "id": "34622503-de12-4101-bbda-b45b346ede4f",
   "metadata": {},
   "source": [
    "## Esercizio #4\n",
    "Data la seguente lista di numeri decimali:\n",
    "\n",
    "n = [0.31, 0.11, 0.51, 0.45, 0.67, 0.01]  \n",
    "Utilizza un ciclo for e verifica quando il numero all'interno della lista è maggiore di 0.5, in tal caso crea una lista ed inserisci il valore 1 al suo interno altrimenti inserisci 0."
   ]
  },
  {
   "cell_type": "code",
   "execution_count": 139,
   "id": "110a4f3e-083b-443e-9d9e-9bf1380a53d2",
   "metadata": {},
   "outputs": [
    {
     "name": "stdout",
     "output_type": "stream",
     "text": [
      "[0, 0, 1, 0, 1, 0]\n"
     ]
    }
   ],
   "source": [
    "n = [0.31, 0.11, 0.51, 0.45, 0.67, 0.01]\n",
    "lista = []\n",
    "for i in n:\n",
    "    if i > 0.5:\n",
    "        lista += [1]\n",
    "    else:\n",
    "        lista += [0]\n",
    "print(lista)"
   ]
  },
  {
   "cell_type": "markdown",
   "id": "c78581bb-c384-4e93-87ff-93f00adc439b",
   "metadata": {},
   "source": [
    "## Esercizio #5\n",
    "Crea un dizionario che contenga con quanta frequenza appaiono le lettere 'a' e 'b' all'interno della lista data.  \n",
    "\n",
    "items = ['a', 'b', 'b', 'b', 'a', 'b', 'b', 'b', 'a']"
   ]
  },
  {
   "cell_type": "code",
   "execution_count": 17,
   "id": "f2d07a26-46ff-4142-8ef7-737eee84ae3e",
   "metadata": {},
   "outputs": [
    {
     "name": "stdout",
     "output_type": "stream",
     "text": [
      "{'a': 3, 'b': 6}\n"
     ]
    }
   ],
   "source": [
    "items = ['a', 'b', 'b', 'b', 'a', 'b', 'b', 'b', 'a']\n",
    "dic = {}\n",
    "for i in items:\n",
    "    if i not in dic.keys():\n",
    "        dic[i] = 1\n",
    "    else:\n",
    "        dic[i] += 1\n",
    "print(dic)  "
   ]
  },
  {
   "cell_type": "markdown",
   "id": "036e9b7f-2093-47ca-ad26-7b6bbc4fbe2b",
   "metadata": {},
   "source": [
    "## Esercizio #6\n",
    "hashtags = ['holiday', 'sport', 'fit', None, 'fashion']  \n",
    "Verifica che ogni hashtag inseriti nella lista sopra siano delle stringhe. Il tuo programma deve restituire True in caso positivo e False in caso negativo."
   ]
  },
  {
   "cell_type": "code",
   "execution_count": 163,
   "id": "a955de14-1892-42ef-b7e5-acce2917dc56",
   "metadata": {},
   "outputs": [
    {
     "name": "stdout",
     "output_type": "stream",
     "text": [
      "False\n"
     ]
    }
   ],
   "source": [
    "hashtags = ['holiday', 'sport', 'fit', None, 'fashion']\n",
    "res = True\n",
    "for n in hashtags:\n",
    "    if type(n) == str:\n",
    "        res *= True\n",
    "    else:\n",
    "        res *= False\n",
    "if res == 1: \n",
    "    print(True) \n",
    "else: print(False)"
   ]
  },
  {
   "cell_type": "markdown",
   "id": "860dfb41-34e7-4c2a-9e2e-4264b7960bdf",
   "metadata": {},
   "source": [
    "## Esercizio #7  \n",
    "Data la seguente lista di nomi:  \n",
    "\n",
    "nomi = ['Alessio', 'Moira', 'Renato', None, 'Martino']  \n",
    "Crea un programma che stampa tutti i nomi presenti utilizzando il ciclo for. Solamente i nomi."
   ]
  },
  {
   "cell_type": "code",
   "execution_count": 170,
   "id": "71a9802e-acd0-4d3d-9800-67292fb76435",
   "metadata": {},
   "outputs": [
    {
     "name": "stdout",
     "output_type": "stream",
     "text": [
      "Alessio Moira Renato Martino "
     ]
    }
   ],
   "source": [
    "nomi = ['Alessio', 'Moira', 'Renato', None, 'Martino']\n",
    "for i in nomi:\n",
    "    if type(i) == str:\n",
    "        print(i, end=' ')"
   ]
  },
  {
   "cell_type": "markdown",
   "id": "9e4ce0cd-3de5-4602-89e7-5f7c4326d9a9",
   "metadata": {},
   "source": [
    "## Esercizio #8  \n",
    "Date le seguenti liste:  \n",
    "\n",
    "l1=[2, 3, 6, 8, 9, 11, 16]  \n",
    "l2=[]  \n",
    "Scrivi un ciclo for che aggiunge il quadrato di ogni numero, presente nella prima lista, nella seconda lista."
   ]
  },
  {
   "cell_type": "code",
   "execution_count": 177,
   "id": "758c224f-db60-427c-8ee1-9b6c560d92a4",
   "metadata": {},
   "outputs": [
    {
     "name": "stdout",
     "output_type": "stream",
     "text": [
      "[4, 9, 36, 64, 81, 121, 256]\n"
     ]
    }
   ],
   "source": [
    "l1=[2, 3, 6, 8, 9, 11, 16]\n",
    "l2=[]\n",
    "for n in l1:\n",
    "    l2.append(n**2)\n",
    "print(l2)"
   ]
  },
  {
   "cell_type": "markdown",
   "id": "5d86537d-3ffb-46fe-a6bc-b12f2b2c0240",
   "metadata": {},
   "source": [
    "## Esercizio 1  \n",
    "Scrivere un programma che utilizzi un loop for per stampare ogni elemento di una lista."
   ]
  },
  {
   "cell_type": "code",
   "execution_count": 193,
   "id": "70f80905-053c-4dd1-9eda-b5d0a3cbed23",
   "metadata": {},
   "outputs": [
    {
     "name": "stdout",
     "output_type": "stream",
     "text": [
      "2 3 6 8 9 11 16 "
     ]
    }
   ],
   "source": [
    "for n in l1:\n",
    "    print(n, end=' ')"
   ]
  },
  {
   "cell_type": "markdown",
   "id": "3e594937-5fa0-4d82-a516-c187cc87b928",
   "metadata": {},
   "source": [
    "## Esercizio 2  \n",
    "Scrivere un programma che utilizzi un loop for per stampare tutti i numeri da 1 a 10."
   ]
  },
  {
   "cell_type": "code",
   "execution_count": 197,
   "id": "61afe4cd-1ae6-454c-b3c9-f7f64a574cf5",
   "metadata": {},
   "outputs": [
    {
     "name": "stdout",
     "output_type": "stream",
     "text": [
      "0 1 2 3 4 5 6 7 8 9 10 "
     ]
    }
   ],
   "source": [
    "for n in range(11):\n",
    "    print(n, end=' ')"
   ]
  },
  {
   "cell_type": "markdown",
   "id": "9676390a-e734-42b4-9852-4fbb164fd7c5",
   "metadata": {},
   "source": [
    "## Esercizio 3  \n",
    "Scrivere un programma che utilizzi un loop for per sommare tutti i numeri in una lista."
   ]
  },
  {
   "cell_type": "code",
   "execution_count": 188,
   "id": "0168b5bb-d425-4dbf-8d83-63042b6d2f76",
   "metadata": {},
   "outputs": [
    {
     "name": "stdout",
     "output_type": "stream",
     "text": [
      "55\n"
     ]
    }
   ],
   "source": [
    "sum = 0\n",
    "for i in l1:\n",
    "    sum +=i\n",
    "print(sum)"
   ]
  },
  {
   "cell_type": "markdown",
   "id": "a30def44-ae80-4e0d-a85e-cf2855043910",
   "metadata": {},
   "source": [
    "## Esercizio 4  \n",
    "Scrivere un programma che utilizzi un loop for per stampare tutti i numeri pari da 1 a 20."
   ]
  },
  {
   "cell_type": "code",
   "execution_count": 199,
   "id": "5b15f851-bed8-44d5-baed-ef4d76f34be4",
   "metadata": {},
   "outputs": [
    {
     "name": "stdout",
     "output_type": "stream",
     "text": [
      "0 2 4 6 8 10 12 14 16 18 20 "
     ]
    }
   ],
   "source": [
    "for i in range(21):\n",
    "    if i%2 == 0:\n",
    "        print(i, end=' ')"
   ]
  },
  {
   "cell_type": "markdown",
   "id": "e587a5b5-e1b3-420e-8723-0f211b63a9cf",
   "metadata": {},
   "source": [
    "## Esercizio 5  \n",
    "Scrivere un programma che utilizzi un loop for per stampare tutte le lettere di una stringa."
   ]
  },
  {
   "cell_type": "code",
   "execution_count": 204,
   "id": "5dbb7afc-0571-40e6-97aa-b5fe4ac51290",
   "metadata": {},
   "outputs": [
    {
     "name": "stdout",
     "output_type": "stream",
     "text": [
      "A\n",
      "n\n",
      "i\n",
      "t\n",
      "a\n"
     ]
    }
   ],
   "source": [
    "stringa = \"Anita\"\n",
    "for c in stringa:\n",
    "    print(c)"
   ]
  },
  {
   "cell_type": "markdown",
   "id": "7dcd063b-848e-4788-a3be-8872bf68c7be",
   "metadata": {},
   "source": [
    "## Esercizio 6\n",
    "Scrivere un programma che utilizzi un loop for per stampare tutte le chiavi di un dizionario."
   ]
  },
  {
   "cell_type": "code",
   "execution_count": 19,
   "id": "96e6d751-0766-4ec4-9851-c99cb8239945",
   "metadata": {},
   "outputs": [
    {
     "name": "stdout",
     "output_type": "stream",
     "text": [
      "a\n",
      "b\n"
     ]
    }
   ],
   "source": [
    "for k in dic:\n",
    "    print(k)"
   ]
  },
  {
   "cell_type": "markdown",
   "id": "1668dba3-a4e8-4ec2-9f26-408291d3162e",
   "metadata": {},
   "source": [
    "## Esercizio 7  \n",
    "Scrivere un programma che utilizzi un loop for per stampare tutte le coppie chiave-valore di un dizionario."
   ]
  },
  {
   "cell_type": "code",
   "execution_count": 27,
   "id": "d9afa444-3024-41b8-99ae-fcc38297a1f4",
   "metadata": {},
   "outputs": [
    {
     "name": "stdout",
     "output_type": "stream",
     "text": [
      "a : 3\n",
      "b : 6\n"
     ]
    }
   ],
   "source": [
    "for k, i in dic.items():\n",
    "    print(f\"{k} : {i}\")"
   ]
  },
  {
   "cell_type": "markdown",
   "id": "9ebc837a-7f5e-40ef-b2e5-6d644520ca52",
   "metadata": {},
   "source": [
    "## Esercizio 8  \n",
    "Scrivere un programma che utilizzi un loop for per stampare tutte le lettere di ogni stringa in una lista."
   ]
  },
  {
   "cell_type": "code",
   "execution_count": 210,
   "id": "c4d7e85c-6981-4902-828b-57f02bf2e4c7",
   "metadata": {},
   "outputs": [
    {
     "name": "stdout",
     "output_type": "stream",
     "text": [
      "M\n",
      "o\n",
      "n\n",
      "i\n",
      "c\n",
      "a\n",
      "A\n",
      "n\n",
      "g\n",
      "e\n",
      "l\n",
      "a\n",
      "M\n",
      "a\n",
      "r\n",
      "i\n",
      "a\n",
      " \n",
      "p\n",
      "i\n",
      "a\n"
     ]
    }
   ],
   "source": [
    "lista = [\"Monica\", \"Angela\", \"Maria pia\"]\n",
    "for n in lista:\n",
    "    for c in n:\n",
    "        print(c)"
   ]
  },
  {
   "cell_type": "markdown",
   "id": "cc879d27-1348-4f01-bc58-d161e46f1b6b",
   "metadata": {},
   "source": [
    "## Esercizio 9  \n",
    "Scrivere un programma che utilizzi un loop for per contare quante volte una lettera compare in una stringa."
   ]
  },
  {
   "cell_type": "code",
   "execution_count": 215,
   "id": "68a149cf-c690-4109-97a2-ad5235cd1325",
   "metadata": {},
   "outputs": [
    {
     "name": "stdout",
     "output_type": "stream",
     "text": [
      "2\n"
     ]
    }
   ],
   "source": [
    "i = 0\n",
    "for c in stringa:\n",
    "    if c.lower() == 'a':\n",
    "        i += 1\n",
    "print(i)"
   ]
  },
  {
   "cell_type": "markdown",
   "id": "034a0151-a13b-4085-9804-e47915efee6b",
   "metadata": {},
   "source": [
    "## Esercizio 10  \n",
    "Scrivere un programma che utilizzi un loop for per calcolare la media di una lista di numeri."
   ]
  },
  {
   "cell_type": "code",
   "execution_count": 218,
   "id": "7265bb6e-9e72-4b05-a882-dbeb8b6b87db",
   "metadata": {},
   "outputs": [
    {
     "name": "stdout",
     "output_type": "stream",
     "text": [
      "3.5\n"
     ]
    }
   ],
   "source": [
    "numeri = [1,2,3,4,5,6]\n",
    "sum = 0\n",
    "for n in numeri:\n",
    "    sum += n\n",
    "print(sum/len(numeri))"
   ]
  },
  {
   "cell_type": "markdown",
   "id": "564687f0-fddd-4c1b-951c-a5f7c734dbff",
   "metadata": {},
   "source": [
    "## Metti in pratica quanto imparato provando a svolgere questi esercizi:  \n",
    "\n",
    "1. Scrivi una funzione per contare la frequenza di ciascun carattere in una determinata stringa e memorizza i risultati in un dizionario.  \n",
    "2. Crea un programma che chieda all'utente una frase e poi stampi un dizionario con il conteggio di ogni parola nella frase."
   ]
  },
  {
   "cell_type": "code",
   "execution_count": 41,
   "id": "fc5cf9d0-4365-4e60-b72e-2954c65c3d5d",
   "metadata": {},
   "outputs": [
    {
     "data": {
      "text/plain": [
       "{'b': 3, 'a': 2, 'o': 1}"
      ]
     },
     "execution_count": 41,
     "metadata": {},
     "output_type": "execute_result"
    }
   ],
   "source": [
    "# 1.\n",
    "def freq_char(str):\n",
    "    dict = {}\n",
    "    for c in str:\n",
    "        if c.lower() not in dict.keys():\n",
    "            dict[c.lower()] = 1\n",
    "        else:\n",
    "            dict[c.lower()] +=1\n",
    "    return(dict)\n",
    "freq_char(\"Baobab\")"
   ]
  },
  {
   "cell_type": "code",
   "execution_count": 49,
   "id": "d13589e4-2e6e-44a4-bd18-3c2e55b72560",
   "metadata": {},
   "outputs": [
    {
     "name": "stdin",
     "output_type": "stream",
     "text": [
      "Inserisci una frase a tuo piacimento se hai una Serva che Non serve Serviti di una serva che Serve manda la serva che non Serve a uno a cui non SERVE una seRVA\n"
     ]
    },
    {
     "name": "stdout",
     "output_type": "stream",
     "text": [
      "il conteggio delle parole della tua frase è la seguente:\n",
      " {'se': 1, 'hai': 1, 'una': 3, 'serva': 4, 'che': 3, 'non': 3, 'serve': 4, 'serviti': 1, 'di': 1, 'manda': 1, 'la': 1, 'a': 2, 'uno': 1, 'cui': 1}\n"
     ]
    }
   ],
   "source": [
    "# 2.\n",
    "def freq_wrd(str):\n",
    "    lib = str.split(\" \")\n",
    "    dict = {}\n",
    "    for parola in lib:\n",
    "        if parola.lower() not in dict.keys():\n",
    "            dict[parola.lower()] = 1\n",
    "        else:\n",
    "            dict[parola.lower()] += 1\n",
    "    return(dict)\n",
    "str = input(\"Inserisci una frase a tuo piacimento\")\n",
    "print(f\"il conteggio delle parole della tua frase è la seguente:\\n {freq_wrd(str)}\")\n"
   ]
  },
  {
   "cell_type": "markdown",
   "id": "63737f50-6061-46b6-ac84-63533c0ac120",
   "metadata": {},
   "source": [
    "## Esercizio 1  \n",
    "Su https://en.wikipedia.org/wiki/List_of_mountains_by_elevation trovate l'elenco delle montagne più alte del mondo.  \n",
    "\n",
    "-costruire una struttura dati heights che, per ognuna delle 5 montagne più alte, permetta di accedere all'altezza a partire dal nome  \n",
    "-stampare le montagne in ordine alfabetico, riportandone nome, altezza e indice nell'ordinamento alfabetico  \n",
    "es:  \n",
    "La montagna numero 1 è Kangchenjunga ed è alta 8,586 metri   \n",
    "La montagna numero 2 è K2 ed è alta 8,611 metri ...   \n",
    "La montagna numero 5 è Mount Everest ed è alta 8,858 metri"
   ]
  },
  {
   "cell_type": "code",
   "execution_count": 59,
   "id": "5f825d49-6579-4865-a9ff-01bb8996dce0",
   "metadata": {},
   "outputs": [
    {
     "name": "stdout",
     "output_type": "stream",
     "text": [
      "La montagna numero 1 è Everest ed è alta 8.858 metri\n",
      "La montagna numero 2 è K2 ed è alta 8.611 metri\n",
      "La montagna numero 3 è Kangchenjunga ed è alta 8.586 metri\n",
      "La montagna numero 4 è Lhotse ed è alta 8.516 metri\n",
      "La montagna numero 5 è Makalu ed è alta 8.485 metri\n"
     ]
    }
   ],
   "source": [
    "heights = [\n",
    "    {\"nome\": \"Everest\", \"altezza\": 8.858},\n",
    "    {\"nome\": \"K2\", \"altezza\": 8.611},\n",
    "    {\"nome\": \"Kangchenjunga\", \"altezza\": 8.586},\n",
    "    {\"nome\": \"Lhotse\", \"altezza\": 8.516},\n",
    "    {\"nome\": \"Makalu\", \"altezza\": 8.485}\n",
    "]\n",
    "\n",
    "# Ordinare la lista di dizionari in ordine alfabetico\n",
    "heights.sort(key=lambda x: x[\"nome\"])\n",
    "\n",
    "# Ciclo per stampare le montagne ordinate\n",
    "for i, montagna in enumerate(heights):\n",
    "    print(f\"La montagna numero {i+1} è {montagna[\"nome\"]} ed è alta {montagna[\"altezza\"]} metri\")\n"
   ]
  },
  {
   "cell_type": "markdown",
   "id": "22ad70b7-334c-40a7-8b62-bb2db347c223",
   "metadata": {},
   "source": [
    "## Esercizio 2\n",
    "Utilizzando il link dell'esercizio precedente,  \n",
    "\n",
    "-costruire un database mountains con le prime 5 montagne più alte  \n",
    "-ogni record deve contenere nome, altezza e stato in cui si trova la montagna  \n",
    "-stampare, in ordine di inserimento, tutte le informazioni di ogni montagna e l'indice di inserimento La montagna numero 1 è Mount Everest, è alta 8858 metri e si trova in Nepal  \n",
    "-costruire due liste mountain_names e mountain_heights, rispettivamente con nomi e altezze delle montagne inserite nel database   \n",
    "utilizzando le due liste, costruire lo stesso dizionario dell'esercizio precedente (l'ordine delle coppie non è importante)"
   ]
  },
  {
   "cell_type": "code",
   "execution_count": 105,
   "id": "84e20441-0096-4b39-8844-331e4d1af159",
   "metadata": {},
   "outputs": [
    {
     "name": "stdout",
     "output_type": "stream",
     "text": [
      "La montagna numero 1 è Everest è alta 8.858 metri e si trova in Nepal\n",
      "La montagna numero 2 è K2 è alta 8.611 metri e si trova in Pakistan\n",
      "La montagna numero 3 è Kangchenjunga è alta 8.586 metri e si trova in Nepal\n",
      "La montagna numero 4 è Lhotse è alta 8.516 metri e si trova in Nepal\n",
      "La montagna numero 5 è Makalu è alta 8.485 metri e si trova in Nepal\n",
      "['Everest', 'K2', 'Kangchenjunga', 'Lhotse', 'Makalu']\n",
      "[8.858, 8.611, 8.586, 8.516, 8.485]\n",
      "[{'Everest': 8.858}, {'K2': 8.611}, {'Kangchenjunga': 8.586}, {'Lhotse': 8.516}, {'Makalu': 8.485}]\n"
     ]
    }
   ],
   "source": [
    "heights = [\n",
    "    {\"nome\": \"Everest\", \"altezza\": 8.858, \"stato\": \"Nepal\"},\n",
    "    {\"nome\": \"K2\", \"altezza\": 8.611, \"stato\" : \"Pakistan\"},\n",
    "    {\"nome\": \"Kangchenjunga\", \"altezza\": 8.586, \"stato\" : \"Nepal\"},\n",
    "    {\"nome\": \"Lhotse\", \"altezza\": 8.516, \"stato\" : \"Nepal\"},\n",
    "    {\"nome\": \"Makalu\", \"altezza\": 8.485, \"stato\" : \"Nepal\"}\n",
    "]\n",
    "for i, montagna in enumerate(heights):\n",
    "    print(f\"La montagna numero {i+1} è {montagna[\"nome\"]} è alta {montagna[\"altezza\"]} metri e si trova in {montagna[\"stato\"]}\")\n",
    "\n",
    "mountain_names = [n[\"nome\"] for n in heights]\n",
    "mountain_heights = [n[\"altezza\"] for n in heights]\n",
    "print(mountain_names)\n",
    "print(mountain_heights)\n",
    "\n",
    "i = 0\n",
    "list = []\n",
    "while i < len(mountain_names):\n",
    "    list += [{mountain_names[i] : mountain_heights[i]}]\n",
    "    i += 1\n",
    "print(list)"
   ]
  },
  {
   "cell_type": "markdown",
   "id": "a06a029f-a84d-41f7-b9f9-d67934ca45f0",
   "metadata": {},
   "source": [
    "## Esercizio 3\n",
    "Seguendo quanto fatto in precedenza, costruire un database di montagne con dati e proprietà a piacere.  \n",
    "\n",
    "Definire una funzione che prenda in ingresso una singola montagna e ne stampi le informazioni, come visto qui sopra.  \n",
    "\n",
    "Iterare sulle montagne attraverso una enumerazione.  \n",
    "Per ognuno, stampare:  \n",
    "-l'indice di inserimento nel database  \n",
    "-le sue informazioni, usando la funzione appena definita.  "
   ]
  },
  {
   "cell_type": "code",
   "execution_count": 99,
   "id": "148c2d19-f810-4f5f-8dc9-8006e9598a14",
   "metadata": {},
   "outputs": [
    {
     "name": "stdout",
     "output_type": "stream",
     "text": [
      "1 --> nome : Everest altezza : 8.858 stato : Nepal \n",
      "\n",
      "2 --> nome : K2 altezza : 8.611 stato : Pakistan \n",
      "\n",
      "3 --> nome : Kangchenjunga altezza : 8.586 stato : Nepal \n",
      "\n",
      "4 --> nome : Lhotse altezza : 8.516 stato : Nepal \n",
      "\n",
      "5 --> nome : Makalu altezza : 8.485 stato : Nepal \n",
      "\n"
     ]
    }
   ],
   "source": [
    "heights = [\n",
    "    {\"nome\": \"Everest\", \"altezza\": 8.858, \"stato\": \"Nepal\"},\n",
    "    {\"nome\": \"K2\", \"altezza\": 8.611, \"stato\" : \"Pakistan\"},\n",
    "    {\"nome\": \"Kangchenjunga\", \"altezza\": 8.586, \"stato\" : \"Nepal\"},\n",
    "    {\"nome\": \"Lhotse\", \"altezza\": 8.516, \"stato\" : \"Nepal\"},\n",
    "    {\"nome\": \"Makalu\", \"altezza\": 8.485, \"stato\" : \"Nepal\"}\n",
    "]\n",
    "\n",
    "def info(dict):\n",
    "    keys = dict.keys()\n",
    "    for i in keys:\n",
    "        print(f\"{i} : {dict[i]}\", end = ' ')\n",
    "    print(\"\\n\")\n",
    "\n",
    "for i, montagna in enumerate(heights):\n",
    "    print(f\"{i+1} --> \", end = '')\n",
    "    info(montagna)\n"
   ]
  },
  {
   "cell_type": "markdown",
   "id": "42495c55-7387-4e5d-be68-78f74f320960",
   "metadata": {},
   "source": [
    "## Esercizio di riepilogo   \n",
    "\n",
    "È arrivato il momento di svolgere un esercizio di riepilogo per mettere in pratica quanto hai studiato finora.  \n",
    "\n",
    "Segui la traccia seguente.    \n",
    "Scrivi una funzione a cui viene passata una parola e riconosce se si tratta di un palindromo (parole che si leggono uguali anche al contrario) oppure no.  \n",
    "Scrivi tale funzione su un notebook Jupyter e testala con queste stringhe:  \n",
    " - parola ‘anna’ polindromo  \n",
    " - parola ‘casa’ non polindromo  "
   ]
  },
  {
   "cell_type": "code",
   "execution_count": 13,
   "id": "36dba682-953c-4d2c-aec9-0ade21a93203",
   "metadata": {},
   "outputs": [
    {
     "name": "stdout",
     "output_type": "stream",
     "text": [
      "palindromo\n",
      "non palindromo\n"
     ]
    },
    {
     "data": {
      "text/plain": [
       "False"
      ]
     },
     "execution_count": 13,
     "metadata": {},
     "output_type": "execute_result"
    }
   ],
   "source": [
    "# 1. \n",
    "def palindrome(str):\n",
    "    str = str.lower()\n",
    "    index = len(str) -1\n",
    "    opposite = \"\"\n",
    "    while index >= 0:\n",
    "        opposite += str[index]\n",
    "        index -=1\n",
    "    if opposite == str:\n",
    "        print(\"palindromo\")\n",
    "        return True\n",
    "    else:\n",
    "        print(\"non palindromo\")\n",
    "        return False\n",
    "\n",
    "palindrome(\"anna\")\n",
    "palindrome(\"casa\")"
   ]
  },
  {
   "cell_type": "code",
   "execution_count": null,
   "id": "3a953576-6193-41df-95c7-d024093ef2b8",
   "metadata": {},
   "outputs": [],
   "source": []
  }
 ],
 "metadata": {
  "kernelspec": {
   "display_name": "Python 3 (ipykernel)",
   "language": "python",
   "name": "python3"
  },
  "language_info": {
   "codemirror_mode": {
    "name": "ipython",
    "version": 3
   },
   "file_extension": ".py",
   "mimetype": "text/x-python",
   "name": "python",
   "nbconvert_exporter": "python",
   "pygments_lexer": "ipython3",
   "version": "3.12.7"
  }
 },
 "nbformat": 4,
 "nbformat_minor": 5
}

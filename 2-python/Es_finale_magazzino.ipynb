{
 "cells": [
  {
   "cell_type": "code",
   "execution_count": 312,
   "id": "cd1e3aeb-7933-4562-b051-a50362293082",
   "metadata": {},
   "outputs": [],
   "source": [
    "# Creo l'magazzino come dizionario nome:oggetto_item\n",
    "magazzino = {}\n",
    "\n",
    "# Creo l'oggetto Item\n",
    "class Item:\n",
    "    def __init__(self, nome, prezzo, quantita):\n",
    "        self.nome = nome\n",
    "        self.prezzo = prezzo\n",
    "        self.quantita = quantita\n",
    "\n",
    "    def add_quantity(self, n):\n",
    "        # Modifica direttamente la quantità dell'oggetto\n",
    "        if self.quantita + n < 0:\n",
    "            print(f\"Quantità attuale: {self.quantita}\")\n",
    "        else:\n",
    "            self.quantita += n  # Aggiungi o sottrai direttamente alla quantità dell'oggetto\n",
    "\n",
    "\n",
    "# Funzione per aggiungere un prodotto in magazzino\n",
    "def aggiungi_item(nome, prezzo):\n",
    "    # Se l'item non è già nel magazzino, lo aggiungiamo\n",
    "    if nome not in magazzino:\n",
    "        magazzino[nome] = Item(nome, prezzo, 1)\n",
    "    else:\n",
    "        # Se l'item è già nel magazzino, chiediamo se aumentare la quantità\n",
    "        while True:\n",
    "            risp = input(f\"Il prodotto {nome} è già in magazzino, vuoi aumentare la quantità? Y/N: \")\n",
    "            if risp.lower() == \"y\":\n",
    "                aumenta_diminuisci_quantita(nome, 1)  # Corretto il nome della funzione\n",
    "                break\n",
    "            elif risp.lower() == \"n\":\n",
    "                break\n",
    "            else:\n",
    "                continue\n",
    "\n",
    "# Funzione per aumentare/diminuire la quantità di un prodotto\n",
    "def aumenta_diminuisci_quantita(nome, quantita):\n",
    "    magazzino[nome].add_quantity(quantita)\n",
    "\n",
    "# Funzione per modificare il prezzo di un prodotto\n",
    "def modifica_prezzo(nome, new_prezzo):\n",
    "    magazzino[nome].prezzo = new_prezzo\n",
    "\n",
    "# Funzione per mostrare il contenuto totale dell'magazzino\n",
    "def mostra_magazzino():\n",
    "    for item in magazzino:\n",
    "        print(f\"Prodotto: {magazzino[item].nome}, prezzo: {magazzino[item].prezzo}, quantità: {magazzino[item].quantita}\")\n",
    "\n",
    "# Funzione utile che, data una lista di oggetti, crea un dizionario che a ciascun prodotto associa la sua quantità\n",
    "def n_item_in_list(list):\n",
    "    dict = {}\n",
    "    for item in list:\n",
    "        if item.lower() not in dict.keys():\n",
    "            dict[item.lower()] = 1\n",
    "        else:\n",
    "            dict[item.lower()] += 1\n",
    "    return dict\n",
    "\n",
    "# Funzione che mette nel carrello dei prodotti, stampa il prezzo totale e chiede se inizializzare la spesa.\n",
    "# In caso affermativo rimuove i prodotti dal magazzino\n",
    "def shop(list):\n",
    "    tot = 0\n",
    "    dict = n_item_in_list(list)\n",
    "    for item in dict:\n",
    "        # Confrontiamo senza case-sensitive\n",
    "        item_lower = item.lower()  # Nome in minuscolo per confronto\n",
    "        if item_lower not in magazzino.keys():\n",
    "            print(f\"Non vendiamo il prodotto {item}!\")\n",
    "            return tot  # Non ritorniamo 0, ma il totale corrente (potrebbe essere parziale)\n",
    "        elif dict[item] > magazzino[item_lower].quantita:\n",
    "            print(f\"Non c'è abbastanza disponibilità del prodotto {item}. Quantità disponibile {magazzino[item_lower].quantita}\")\n",
    "            return tot  # Anche qui, ritorniamo il totale corrente\n",
    "        else:\n",
    "            tot += magazzino[item_lower].prezzo * dict[item]\n",
    "\n",
    "    print(f\"Il costo totale del tuo carrello è {tot}€\")\n",
    "    while True:\n",
    "        buy = input(\"Confermi la spesa? Y/N: \")\n",
    "        if buy.lower() == \"y\":\n",
    "            for item in dict:\n",
    "                item_lower = item.lower()  # Usando il nome in minuscolo per aggiornare\n",
    "                aumenta_diminuisci_quantita(item_lower, -dict[item])  # Ridurre la quantità dal magazzino\n",
    "            break\n",
    "        elif buy.lower() == \"n\":\n",
    "            print(\"Acquisto annullato.\")\n",
    "            break\n",
    "        else:\n",
    "            continue\n",
    "\n",
    "    return tot\n"
   ]
  },
  {
   "cell_type": "code",
   "execution_count": 314,
   "id": "43980c50-2432-4371-9068-c4bfbbc80546",
   "metadata": {},
   "outputs": [
    {
     "name": "stdin",
     "output_type": "stream",
     "text": [
      "Il prodotto cellulare è già in magazzino, vuoi aumentare la quantità? Y/N:  y\n"
     ]
    },
    {
     "name": "stdout",
     "output_type": "stream",
     "text": [
      "Prodotto: cellulare, prezzo: 500, quantità: 2\n",
      "Prodotto: tablet, prezzo: 300, quantità: 1\n"
     ]
    }
   ],
   "source": [
    "# Aggiungiamo alcuni articoli\n",
    "aggiungi_item(\"cellulare\", 500)\n",
    "aggiungi_item(\"tablet\", 300)\n",
    "aggiungi_item(\"cellulare\", 500)\n",
    "aumemta_diminuisci_quantita(\"tablet\",4)\n",
    "\n",
    "mostra_magazzino()"
   ]
  },
  {
   "cell_type": "code",
   "execution_count": 316,
   "id": "cd7f6b5c-75e2-4a4a-9be0-69528ac8dcb3",
   "metadata": {},
   "outputs": [
    {
     "name": "stdout",
     "output_type": "stream",
     "text": [
      "Prodotto: cellulare, prezzo: 500, quantità: 2\n",
      "Prodotto: tablet, prezzo: 300, quantità: 1\n",
      "Prodotto: sveglia, prezzo: 10, quantità: 1\n"
     ]
    }
   ],
   "source": [
    "aggiungi_item(\"sveglia\", 10)\n",
    "mostra_magazzino()"
   ]
  },
  {
   "cell_type": "code",
   "execution_count": 318,
   "id": "6fb09262-e0bc-4be8-b662-2b04040f91a3",
   "metadata": {},
   "outputs": [
    {
     "name": "stdout",
     "output_type": "stream",
     "text": [
      "Prodotto: cellulare, prezzo: 500, quantità: 2\n",
      "Prodotto: tablet, prezzo: 300, quantità: 1\n",
      "Prodotto: sveglia, prezzo: 10, quantità: 3\n"
     ]
    }
   ],
   "source": [
    "aumenta_diminuisci_quantita(\"sveglia\", 2)\n",
    "mostra_magazzino()"
   ]
  },
  {
   "cell_type": "code",
   "execution_count": 320,
   "id": "4c929aff-9de3-4d55-aac0-78e6b1f0846d",
   "metadata": {},
   "outputs": [
    {
     "name": "stdout",
     "output_type": "stream",
     "text": [
      "Prodotto: cellulare, prezzo: 500, quantità: 2\n",
      "Prodotto: tablet, prezzo: 300, quantità: 1\n",
      "Prodotto: sveglia, prezzo: 9, quantità: 3\n"
     ]
    }
   ],
   "source": [
    "modifica_prezzo(\"sveglia\",9)\n",
    "mostra_magazzino()"
   ]
  },
  {
   "cell_type": "code",
   "execution_count": 322,
   "id": "442d6605-1eb7-444d-bcfc-599ff496515e",
   "metadata": {},
   "outputs": [
    {
     "name": "stdout",
     "output_type": "stream",
     "text": [
      "Il costo totale del tuo carrello è 800€\n"
     ]
    },
    {
     "name": "stdin",
     "output_type": "stream",
     "text": [
      "Confermi la spesa? Y/N:  y\n"
     ]
    },
    {
     "data": {
      "text/plain": [
       "800"
      ]
     },
     "execution_count": 322,
     "metadata": {},
     "output_type": "execute_result"
    }
   ],
   "source": [
    "shop([\"cellulare\",\"tablet\"])"
   ]
  },
  {
   "cell_type": "code",
   "execution_count": 324,
   "id": "5e879449-bb36-4377-9013-0142c1cff199",
   "metadata": {},
   "outputs": [
    {
     "name": "stdout",
     "output_type": "stream",
     "text": [
      "Prodotto: cellulare, prezzo: 500, quantità: 1\n",
      "Prodotto: tablet, prezzo: 300, quantità: 0\n",
      "Prodotto: sveglia, prezzo: 9, quantità: 3\n"
     ]
    }
   ],
   "source": [
    "mostra_magazzino()"
   ]
  },
  {
   "cell_type": "code",
   "execution_count": 326,
   "id": "da6d4084-a6de-47a5-83c3-c1b6b9f1e927",
   "metadata": {},
   "outputs": [
    {
     "name": "stdout",
     "output_type": "stream",
     "text": [
      "Non puoi togliere tutti quei prodotti, prodotti insufficienti in magazzino. Quantità attuale: 0\n"
     ]
    }
   ],
   "source": [
    "aumenta_diminuisci_quantita(\"tablet\", -1)"
   ]
  },
  {
   "cell_type": "code",
   "execution_count": 328,
   "id": "25487339-d251-4e10-b30e-a1cc0f95ee97",
   "metadata": {},
   "outputs": [
    {
     "name": "stdout",
     "output_type": "stream",
     "text": [
      "Prodotto: cellulare, prezzo: 500, quantità: 1\n",
      "Prodotto: tablet, prezzo: 300, quantità: 0\n",
      "Prodotto: sveglia, prezzo: 9, quantità: 3\n"
     ]
    }
   ],
   "source": [
    "mostra_magazzino()"
   ]
  },
  {
   "cell_type": "code",
   "execution_count": null,
   "id": "017765cc-5617-43a5-b3ba-8e3817f39612",
   "metadata": {},
   "outputs": [],
   "source": []
  }
 ],
 "metadata": {
  "kernelspec": {
   "display_name": "Python 3 (ipykernel)",
   "language": "python",
   "name": "python3"
  },
  "language_info": {
   "codemirror_mode": {
    "name": "ipython",
    "version": 3
   },
   "file_extension": ".py",
   "mimetype": "text/x-python",
   "name": "python",
   "nbconvert_exporter": "python",
   "pygments_lexer": "ipython3",
   "version": "3.12.7"
  }
 },
 "nbformat": 4,
 "nbformat_minor": 5
}

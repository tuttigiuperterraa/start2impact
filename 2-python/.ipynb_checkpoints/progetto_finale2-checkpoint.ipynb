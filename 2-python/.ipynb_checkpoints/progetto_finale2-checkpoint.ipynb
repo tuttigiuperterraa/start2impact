{
 "cells": [
  {
   "cell_type": "markdown",
   "id": "c0cca000-97ba-41f7-aff6-c1ed925a7ab2",
   "metadata": {},
   "source": [
    "# Gestione del magazzino: Sistema di Organizzazione e Filtraggio Avanzato dei Capi di Abbigliamento  \n",
    "Questo progetto implementa un sistema per la gestione di una collezione di capi di abbigliamento, permettendo agli utenti di registrare, visualizzare, cercare e analizzare gli articoli nel proprio magazzino.  \n",
    "Ogni capo di abbigliamento è caratterizzato da una serie di attributi specifici:  \n",
    " - categoria\n",
    " -  stagione\n",
    " -  tipologia\n",
    " -  taglia\n",
    " -  colore\n",
    " -  marca\n",
    " -  quantità\n",
    "  \n",
    "Gli utenti possono aggiungere nuovi capi, visualizzare l'inventario completo, eseguire ricerche basate su uno o più criteri e ottenere statistiche utili, come il conteggio totale dei capi o la distribuzione per categoria, stagione o marca. La funzione di filtraggio avanzato consente di combinare più criteri per affinare le ricerche, ad esempio per trovare tutti i capi di una determinata marca o stagione. Il sistema offre uno strumento pratico per organizzare e ottimizzare il proprio magazzino."
   ]
  },
  {
   "cell_type": "code",
   "execution_count": 419,
   "id": "d56bd0eb-b43b-4e87-a31d-7f8bf7dcc474",
   "metadata": {},
   "outputs": [],
   "source": [
    "import random\n",
    "import string\n",
    "'''\n",
    "Definizione dell'elemento magazzino come dizionario avente come chiave un codice univoco del capo e valore l'elemento capo\n",
    "'''\n",
    "magazzino = {}"
   ]
  },
  {
   "cell_type": "code",
   "execution_count": 421,
   "id": "519bbe79-8d40-4f8a-9524-5a419b54fb40",
   "metadata": {},
   "outputs": [],
   "source": [
    "'''\n",
    "Definizione dell'elemento capo come oggetto con più attributi quali:\n",
    "categoria\n",
    "stagione\n",
    "tipologia\n",
    "taglia\n",
    "colore\n",
    "marca\n",
    "quantità\n",
    "'''\n",
    "class Capo:\n",
    "    CATEGORIE_VALIDE = [\"scarpe\", \"pantaloni\", \"maglie e camicie\", \"maglioni e felpe\", \"giacche e cappotti\", \"accessori\", \"intimo\"]\n",
    "    TAGLIE_VALIDE = [\"xxxs\", \"xxs\", \"xs\", \"s\", \"m\", \"l\", \"xl\", \"xxl\", \"xxxl\"]\n",
    "    STAGIONI_VALIDE = [\"primavera\", \"estate\", \"autunno\", \"inverno\"]\n",
    "    \n",
    "    def __init__(self, tipologia, categoria, stagione, colore, taglia, marca, quantità):\n",
    "        if categoria.lower() not in Capo.CATEGORIE_VALIDE:\n",
    "            raise ValueError(f\"Categoria '{categoria}' non valida. Le categorie valide sono: {', '.join(Capo.CATEGORIE_VALIDI)}\")\n",
    "        if taglia.lower() not in Capo.TAGLIE_VALIDE:\n",
    "            raise ValueError(f\"Taglia '{taglia}' non valida. Le taglie valide sono: {', '.join(Capo.TAGLIE_VALIDE)}\")\n",
    "        if stagione.lower() not in Capo.STAGIONI_VALIDE:\n",
    "            raise ValueError(f\"Stagione '{stagione}' non valida. Le stagioni valide sono: {', '.join(Capo.STAGIONI_VALIDE)}\")\n",
    "        if not isinstance(quantità, int) or quantità <= 0:\n",
    "            raise ValueError(f\"Quantità '{quantità}' non valida. Inserisci un numero intero positivo\")\n",
    "        self.tipologia = tipologia.lower()\n",
    "        self.categoria = categoria.lower()\n",
    "        self.stagione = stagione.lower()\n",
    "        self.colore = colore.lower()\n",
    "        self.taglia = taglia.lower()\n",
    "        self.marca = marca.lower()\n",
    "        self.quantità = int(quantità)\n",
    "\n"
   ]
  },
  {
   "cell_type": "code",
   "execution_count": 423,
   "id": "431202dc-1e47-4505-a1d1-e910b4fcd664",
   "metadata": {},
   "outputs": [],
   "source": [
    "## Funzione per restituire un dizionario con le caratteristiche di un Capo\n",
    "def caratteristiche_capo(codice):\n",
    "    caratteristiche = {'codice':codice, 'tipologia':magazzino[codice].tipologia, 'categoria':magazzino[codice].categoria, 'stagione':magazzino[codice].stagione, 'colore':magazzino[codice].colore, 'taglia':magazzino[codice].taglia, 'marca':magazzino[codice].marca, 'quantità':magazzino[codice].quantità}\n",
    "    return caratteristiche"
   ]
  },
  {
   "cell_type": "code",
   "execution_count": 425,
   "id": "3de1550b-c1d9-475c-938a-2b65b8511705",
   "metadata": {},
   "outputs": [],
   "source": [
    "## Funzione che controlla la validità dei parametri passati\n",
    "def controlla_validità(tipologia=None, categoria=None, stagione=None, colore=None, taglia=None, marca=None, quantità=None):\n",
    "    if tipologia:\n",
    "        tipologia = tipologia.strip().lower()\n",
    "    if categoria:\n",
    "        categoria = categoria.strip().lower()\n",
    "    if stagione:\n",
    "        stagione = stagione.strip().lower()\n",
    "    if colore:\n",
    "        colore = colore.strip().lower()\n",
    "    if taglia:\n",
    "        taglia = taglia.strip().lower()\n",
    "    if marca:\n",
    "        marca = marca.strip().lower()\n",
    "    \n",
    "    # Se la categoria viene fornita, controlla la validità\n",
    "    if categoria and categoria not in Capo.CATEGORIE_VALIDE:\n",
    "        return f\"Categoria '{categoria}' non valida. Le categorie valide sono: {', '.join(Capo.CATEGORIE_VALIDE)}\"\n",
    "\n",
    "    # Se la taglia viene fornita, controlla la validità\n",
    "    if taglia and taglia not in Capo.TAGLIE_VALIDE:\n",
    "        return f\"Taglia '{taglia}' non valida. Le taglie valide sono: {', '.join(Capo.TAGLIE_VALIDE)}\"\n",
    "\n",
    "    # Se la stagione viene fornita, controlla la validità\n",
    "    if stagione and stagione not in Capo.STAGIONI_VALIDE:\n",
    "        return f\"Stagione '{stagione}' non valida. Le stagioni valide sono: {', '.join(Capo.STAGIONI_VALIDE)}\"\n",
    "    \n",
    "    # Se la quantità viene fornita, controlla che sia un numero intero positivo\n",
    "    if quantità is not None:\n",
    "        if not isinstance(quantità, int) or quantità <= 0:\n",
    "            return f\"Quantità '{quantità}' non valida. Inserisci un numero intero positivo\"\n",
    "\n",
    "    # Se tutti i controlli sono passati, ritorna None\n",
    "    return None\n"
   ]
  },
  {
   "cell_type": "code",
   "execution_count": 427,
   "id": "5e096221-1022-4cd7-a2ff-d2a5188c4c66",
   "metadata": {},
   "outputs": [],
   "source": [
    "## Funzione che trova e stampa il codice di un prodotto a partire dalle sue caratteristiche\n",
    "def stampa_codice(tipologia, categoria, stagione, colore, taglia, marca):\n",
    "    \n",
    "    # Verifica la validità dei parametri\n",
    "    errore = controlla_validità(tipologia, categoria, stagione, colore, taglia, marca) \n",
    "    if errore:\n",
    "        return errore\n",
    "        \n",
    "    # Cerca il capo che rispetta tutte le caratteristiche \n",
    "    for codice in magazzino.keys():\n",
    "        if (tipologia == magazzino[codice].tipologia and \n",
    "           categoria == magazzino[codice].categoria and \n",
    "           stagione == magazzino[codice].stagione and \n",
    "            colore == magazzino[codice].colore and \n",
    "            taglia == magazzino[codice].taglia and \n",
    "            marca == magazzino[codice].marca):\n",
    "            print(f\"Codice trovato: {codice}\")\n",
    "            return  # Esce dalla funzione se trova il capo e restituisce il codice\n",
    "            \n",
    "    # Se il codice non è stato trovato nel magazzino propone di inserire un nuovo capo con quelle caratteristiche\n",
    "    utente = input(\"Questo capo non è ancora nel magazzino. Vuoi aggiungerlo? (si/no): \")\n",
    "    while utente not in ['si', 'no']:\n",
    "        utente = input(\"Risposta non valida. Vuoi aggiungerlo? (si/no): \").lower()  \n",
    "    if utente == \"si\":\n",
    "        aggiungi_capo(tipologia, categoria, stagione, colore, taglia, marca)\n",
    "    else:\n",
    "        print(\"Inserimento annullato\")"
   ]
  },
  {
   "cell_type": "code",
   "execution_count": 429,
   "id": "c50b7d3e-f0b7-463e-ac19-2887a4aa8d9e",
   "metadata": {},
   "outputs": [],
   "source": [
    "## Funzione che trova e ritorna (return) il codice di un prodotto a partire dalle sue caratteristiche\n",
    "def ritorna_codice(tipologia, categoria, stagione, colore, taglia, marca):\n",
    "    \n",
    "    # Verifica la validità dei parametri\n",
    "    errore = controlla_validità(tipologia, categoria, stagione, colore, taglia, marca) \n",
    "    if errore:\n",
    "        return errore\n",
    "        \n",
    "    # Cerca il capo che rispetta tutte le caratteristiche \n",
    "    for codice in magazzino.keys():\n",
    "        if (tipologia == magazzino[codice].tipologia and \n",
    "           categoria == magazzino[codice].categoria and \n",
    "           stagione == magazzino[codice].stagione and \n",
    "            colore == magazzino[codice].colore and \n",
    "            taglia == magazzino[codice].taglia and \n",
    "            marca == magazzino[codice].marca):\n",
    "            return  codice # Se il codice  è stato trovato nel magazzino ritorna il codice\n",
    "            \n",
    "    # Se il codice non è stato trovato nel magazzino ritorna nulla\n",
    "    return None"
   ]
  },
  {
   "cell_type": "code",
   "execution_count": 431,
   "id": "74ef1606-3c4d-49d9-befa-09243c620b23",
   "metadata": {},
   "outputs": [],
   "source": [
    "## Funzione per aumentare/diminuire la quantità di un elemento nel magazzino\n",
    "def aumenta_diminuisci_quantità(codice, n):\n",
    "\n",
    "    # Se il codice non esiste avvisa che non è presente in magazzino\n",
    "    if codice not in magazzino.keys():\n",
    "        print(\"Non è stato possibile trovare alcun capo associato a questo codici in magazzino\")\n",
    "        return\n",
    "        \n",
    "    # Se la quantità diventa negativa dopo l'update da errore\n",
    "    if magazzino[codice].quantità + n < 0:\n",
    "        print(f\"Stai togliendo più capi di quanti presenti in magazzino. Quantità attuale in magazzino: {magazzino[codice].quantità}\")\n",
    "    \n",
    "    # Se la quantità diventa zero dopo l'update elimina l'elemento\n",
    "    elif magazzino[codice].quantità + n == 0:\n",
    "        del magazzino[codice]\n",
    "        \n",
    "    # Altrimenti aggiorna la quantità\n",
    "    else:\n",
    "        magazzino[codice].quantità += n\n",
    "        "
   ]
  },
  {
   "cell_type": "code",
   "execution_count": 433,
   "id": "65140c49-efca-47f0-a374-c1d3de29d058",
   "metadata": {},
   "outputs": [],
   "source": [
    "## Funzione per rimuovere un capo\n",
    "def rimuovi_capo(codice):\n",
    "    # Se il codice non esiste avvisa che non è presente in magazzino\n",
    "    if codice not in magazzino.keys():\n",
    "        print(\"Non è stato possibile trovare alcun capo associato a questo codici in magazzino\")\n",
    "        return\n",
    "        \n",
    "    del magazzino[codice]"
   ]
  },
  {
   "cell_type": "code",
   "execution_count": 435,
   "id": "a3173027-a375-40e7-b311-2ba6ae55fc38",
   "metadata": {},
   "outputs": [],
   "source": [
    "## Funzione per controllare l'esistenza di un capo in magazzino\n",
    "def controllo_in_magazzino(tipologia, categoria, stagione, colore, taglia, marca):\n",
    "    \n",
    "    # Verifica la validità dei parametri\n",
    "    errore = controlla_validità(tipologia, categoria, stagione, colore, taglia, marca)\n",
    "    if errore:\n",
    "        return errore\n",
    "\n",
    "    # Se i parametri sono validi, prosegui con il controllo\n",
    "    for codice in magazzino.keys():\n",
    "        if (tipologia == magazzino[codice].tipologia and\n",
    "            categoria == magazzino[codice].categoria and\n",
    "            stagione == magazzino[codice].stagione and\n",
    "            colore == magazzino[codice].colore and\n",
    "            taglia == magazzino[codice].taglia and\n",
    "            marca == magazzino[codice].marca):\n",
    "            return True\n",
    "    return False"
   ]
  },
  {
   "cell_type": "code",
   "execution_count": 437,
   "id": "a51e9b5e-f4c4-483e-aef3-649ae0b2f0e0",
   "metadata": {},
   "outputs": [],
   "source": [
    "def aggiungi_capo(tipologia, categoria, stagione, colore, taglia, marca, quantità=1):\n",
    "    \n",
    "    # Verifica la validità dei parametri\n",
    "    errore = controlla_validità(tipologia, categoria, stagione, colore, taglia, marca, quantità)\n",
    "    if errore:\n",
    "        return errore\n",
    "\n",
    "    # Se i parametri sono validi, prosegui con l'aggiunta\n",
    "    # Controlla se un capo con le stesse caratteristiche è già presente\n",
    "    if controllo_in_magazzino(tipologia, categoria, stagione, colore, taglia, marca):\n",
    "        utente = input(f\"Un capo con queste caratteristiche:\\n{tipologia} - {categoria} - {stagione} - {colore} - {taglia} - {marca} \\nè già presente nel magazzino, vuoi aumentarne la quantità?si/no: \")\n",
    "        while utente not in ['si', 'no']:\n",
    "            utente = input(\"Risposta non valida. Vuoi aumentare la quantità? (si/no): \").lower()  \n",
    "        if utente == \"si\":\n",
    "            aumenta_diminuisci_quantità(stampa_codice(tipologia, categoria, stagione, colore, taglia, marca), quantità)\n",
    "            return\n",
    "        elif utente == \"no\":\n",
    "            print(\"Inserimento annullato\")\n",
    "            return\n",
    "    \n",
    "    # Aggiungi il capo al magazzino con un codice univoco se non era già presente\n",
    "    caratteri = string.ascii_letters + string.digits\n",
    "    codice = ''.join(random.choices(caratteri, k=8))\n",
    "    magazzino[codice] = Capo(tipologia, categoria, stagione, colore, taglia, marca, quantità)\n"
   ]
  },
  {
   "cell_type": "code",
   "execution_count": 439,
   "id": "1a39be7b-d2c8-4b1d-b1bb-7e1dd5d54862",
   "metadata": {},
   "outputs": [],
   "source": [
    "## Funzione per modificare un attributo di un capo\n",
    "def modifica_attributo_capo(codice, attributo, nuovo_valore):\n",
    "    \n",
    "    # Assicurati che gli attributi siano quelli esistenti\n",
    "    while attributo not in ['tipologia', 'categoria', 'stagione', 'colore', 'taglia', 'marca']:\n",
    "        attributo = input(\"Attributo non valido. (tipologia, categoria, stagione, colore, taglia, marca): \").lower()\n",
    "    \n",
    "    # Se il capo (codice fornito) esiste in magazzino\n",
    "    if codice in magazzino.keys():\n",
    "         # Verifica che il nuovo valore sia valido per l'attributo \n",
    "        if attributo == 'categoria' and nuovo_valore.lower() not in Capo.CATEGORIE_VALIDE:\n",
    "            print(f\"Categoria '{nuovo_valore}' non valida. Le categorie valide sono: {', '.join(Capo.CATEGORIE_VALIDE)}\")\n",
    "            return\n",
    "        elif attributo == 'taglia' and nuovo_valore.lower() not in Capo.TAGLIE_VALIDE:\n",
    "            print(f\"Taglia '{nuovo_valore}' non valida. Le taglie valide sono: {', '.join(Capo.TAGLIE_VALIDE)}\")\n",
    "            return\n",
    "        elif attributo == 'stagione' and nuovo_valore.lower() not in Capo.STAGIONI_VALIDE:\n",
    "            print(f\"Stagione '{nuovo_valore}' non valida. Le stagioni valide sono: {', '.join(Capo.STAGIONI_VALIDE)}\")\n",
    "            return\n",
    "        elif attributo == 'colore' and nuovo_valore.lower() == \"\":\n",
    "            print(f\"Il colore non può essere vuoto.\")\n",
    "            return\n",
    "        elif attributo == 'marca' and nuovo_valore.lower() == \"\":\n",
    "            print(f\"La marca non può essere vuota.\")\n",
    "            return\n",
    "        else:\n",
    "            setattr(magazzino[codice], attributo, nuovo_valore)\n",
    "    \n",
    "    # Se il capo (codice fornito) NON esiste in magazzino\n",
    "    else:\n",
    "        print(\"Non è stato possibile trovare alcun capo associato a questo codici in magazzino\")"
   ]
  },
  {
   "cell_type": "code",
   "execution_count": 441,
   "id": "3a352164-b658-4e4d-8285-8bdc6efee379",
   "metadata": {},
   "outputs": [],
   "source": [
    "def visualizza_magazzino(tipologia=None, categoria=None, stagione=None, colore=None, taglia=None, marca=None, quantità=None):\n",
    "    errore = controlla_validità(tipologia, categoria, stagione, colore, taglia, marca)\n",
    "    if errore:\n",
    "        return errore\n",
    "\n",
    "    compare = False  # Variabile per determinare se la quantità è data per valutare un valore > o <\n",
    "    maggiore = None  # Variabile per determinare se la quantità è maggiore o minore\n",
    "    filtri = {}\n",
    "\n",
    "    # Aggiungi i filtri per gli attributi tranne quantità\n",
    "    if tipologia:\n",
    "        filtri['tipologia'] = tipologia\n",
    "    if categoria:\n",
    "        filtri['categoria'] = categoria\n",
    "    if stagione:\n",
    "        filtri['stagione'] = stagione\n",
    "    if colore:\n",
    "        filtri['colore'] = colore\n",
    "    if taglia:\n",
    "        filtri['taglia'] = taglia\n",
    "    if marca:\n",
    "        filtri['marca'] = marca\n",
    "\n",
    "    # Gestisci il filtro per la quantità\n",
    "    if quantità:\n",
    "        \n",
    "        # Se la quantità è stata passata come int\n",
    "        if isinstance(quantità, (int, float)):\n",
    "            filtri['quantità'] = quantità\n",
    "            \n",
    "        # Se la quantità è stata passata come stringa (solo due forme possibili: '>digits', '<digits')\n",
    "        elif isinstance(quantità, str):\n",
    "            if quantità.startswith('>') and quantità[1:].isdigit():\n",
    "                compare = True\n",
    "                maggiore = True\n",
    "                filtri['quantità'] = int(quantità[1:])  # Rimuovi il '>' e converte in int\n",
    "            elif quantità.startswith('<') and quantità[1:].isdigit():\n",
    "                compare = True\n",
    "                maggiore = False\n",
    "                filtri['quantità'] = int(quantità[1:])  # Rimuovi il '<' e converte in int\n",
    "            else:\n",
    "                return \"Valore quantità non accettabile\"\n",
    "\n",
    "    # Verifica se i valori associati alle chiavi comuni sono uguali\n",
    "    for codice in magazzino.keys():\n",
    "        rispetta_filtro = True\n",
    "        for chiave in filtri.keys():\n",
    "            # Confronto speciale per la quantità con '>' o '<'\n",
    "            if chiave == 'quantità' and compare:\n",
    "                if maggiore and filtri[chiave] >= getattr(magazzino[codice], chiave):\n",
    "                    rispetta_filtro = False\n",
    "                    break\n",
    "                elif not maggiore and filtri[chiave] <= getattr(magazzino[codice], chiave):\n",
    "                    rispetta_filtro = False\n",
    "                    break\n",
    "            # Per gli altri filtri\n",
    "            elif filtri[chiave] != getattr(magazzino[codice], chiave):\n",
    "                rispetta_filtro = False\n",
    "                break\n",
    "\n",
    "        # Se tutti i filtri sono rispettati, stampa il risultato\n",
    "        if rispetta_filtro:\n",
    "            print(f\"Codice {codice}: {magazzino[codice].tipologia}, {magazzino[codice].categoria}, {magazzino[codice].stagione}, {magazzino[codice].colore}, {magazzino[codice].taglia}, {magazzino[codice].marca}, {magazzino[codice].quantità}\")\n"
   ]
  },
  {
   "cell_type": "code",
   "execution_count": 443,
   "id": "0e8f3547-7e25-4507-9e17-667802df7cd8",
   "metadata": {},
   "outputs": [],
   "source": [
    "## funzione per svuotare il magazzino\n",
    "def svuota_magazzino():\n",
    "    global magazzino  # Questo gli serve per assicurarsi che stia considerando la variabile globale magazzino\n",
    "    # Rimuovi tutti gli elementi dal dizionario\n",
    "    magazzino.clear()  \n",
    "    print(\"Il magazzino è stato svuotato.\")"
   ]
  },
  {
   "cell_type": "code",
   "execution_count": 543,
   "id": "e7a9f541-b681-4957-9a04-31310cfde1b4",
   "metadata": {},
   "outputs": [],
   "source": [
    "def statistica():\n",
    "    ## Conta quanti elementi in totale ci sono in magazzino\n",
    "    tot = 0\n",
    "    for capo in magazzino.values():\n",
    "        tot += capo.quantità \n",
    "    \n",
    "    lista_categorie = {}\n",
    "    lista_tipologie = {}\n",
    "    lista_stagioni = {}\n",
    "    lista_colori = {}\n",
    "    lista_colori_per_tipologia = {}  \n",
    "    lista_marche_per_tipologia = {}  \n",
    "    lista_taglie = {}\n",
    "    lista_marche = {}\n",
    "\n",
    "    ## Conta quanti elementi per ciascun differente attributo\n",
    "    for codice in magazzino.values():\n",
    "        # Aggiorna le categorie\n",
    "        if codice.categoria not in lista_categorie:\n",
    "            lista_categorie[codice.categoria] = {'count': codice.quantità, 'colori': {codice.colore: {codice.marca: codice.quantità}}}\n",
    "        else:\n",
    "            lista_categorie[codice.categoria]['count'] += codice.quantità\n",
    "            if codice.colore not in lista_categorie[codice.categoria]['colori']:\n",
    "                lista_categorie[codice.categoria]['colori'][codice.colore] = {codice.marca: codice.quantità}\n",
    "            else:\n",
    "                if codice.marca not in lista_categorie[codice.categoria]['colori'][codice.colore]:\n",
    "                    lista_categorie[codice.categoria]['colori'][codice.colore][codice.marca] = codice.quantità\n",
    "                else:\n",
    "                    lista_categorie[codice.categoria]['colori'][codice.colore][codice.marca] += codice.quantità\n",
    "\n",
    "        # Aggiorna le tipologie\n",
    "        if codice.tipologia not in lista_tipologie:\n",
    "            lista_tipologie[codice.tipologia] = codice.quantità\n",
    "        else:\n",
    "            lista_tipologie[codice.tipologia] += codice.quantità\n",
    "\n",
    "        # Aggiorna le stagioni\n",
    "        if codice.stagione not in lista_stagioni:\n",
    "            lista_stagioni[codice.stagione] = {'count': capo.quantità, 'articoli': [codice]}\n",
    "        else:\n",
    "            lista_stagioni[codice.stagione]['count'] += capo.quantità\n",
    "            lista_stagioni[codice.stagione]['articoli'].append(codice)\n",
    "\n",
    "        # Aggiorna i colori per tipologia\n",
    "        if codice.tipologia not in lista_colori_per_tipologia:\n",
    "            lista_colori_per_tipologia[codice.tipologia] = {codice.colore: codice.quantità}\n",
    "        else:\n",
    "            if codice.colore not in lista_colori_per_tipologia[codice.tipologia]:\n",
    "                lista_colori_per_tipologia[codice.tipologia][codice.colore] = codice.quantità\n",
    "            else:\n",
    "                lista_colori_per_tipologia[codice.tipologia][codice.colore] += codice.quantità\n",
    "\n",
    "        # Aggiorna le marche per tipologia\n",
    "        if codice.tipologia not in lista_marche_per_tipologia:\n",
    "            lista_marche_per_tipologia[codice.tipologia] = {codice.marca: codice.quantità}\n",
    "        else:\n",
    "            if codice.marca not in lista_marche_per_tipologia[codice.tipologia]:\n",
    "                lista_marche_per_tipologia[codice.tipologia][codice.marca] = codice.quantità\n",
    "            else:\n",
    "                lista_marche_per_tipologia[codice.tipologia][codice.marca] += codice.quantità\n",
    "\n",
    "        # Aggiorna i colori (generale)\n",
    "        if codice.colore not in lista_colori:\n",
    "            lista_colori[codice.colore] = {'count': codice.quantità, 'articoli': [codice]}\n",
    "        else:\n",
    "            lista_colori[codice.colore]['count'] += codice.quantità\n",
    "            lista_colori[codice.colore]['articoli'].append(codice)\n",
    "\n",
    "        # Aggiorna le taglie\n",
    "        if codice.taglia not in lista_taglie:\n",
    "            lista_taglie[codice.taglia] = codice.quantità\n",
    "        else:\n",
    "            lista_taglie[codice.taglia] += codice.quantità\n",
    "\n",
    "        # Aggiorna le marche (generale)\n",
    "        if codice.marca not in lista_marche:\n",
    "            lista_marche[codice.marca] = codice.quantità\n",
    "        else:\n",
    "            lista_marche[codice.marca] += codice.quantità\n",
    "\n",
    "    ### Inizia le stampe ###\n",
    "    # Per ogni attributo\n",
    "    print(f\"In totale ci sono {tot} articoli nel magazzino.\")\n",
    "\n",
    "    # Categorie con i colori e marche\n",
    "    print(f\"\\nIn particolare, delle {len(lista_categorie)} categorie di capi presenti in magazzino abbiamo:\")\n",
    "    for categoria, data in lista_categorie.items():\n",
    "        print(f\"{data['count']} {categoria}\")\n",
    "        # Per ogni categoria, stampiamo anche i colori e le marche\n",
    "        print(f\"   - Colori:\")\n",
    "        for colore, marche in data['colori'].items():\n",
    "            print(f\"      - {colore}:\")\n",
    "            for marca, count in marche.items():\n",
    "                print(f\"         - {count} {marca}\")\n",
    "\n",
    "    # Tipologie\n",
    "    print(f\"\\nDelle {len(lista_tipologie)} tipologie di capi presenti in magazzino abbiamo:\")\n",
    "    for tipologia, count in lista_tipologie.items():\n",
    "        print(f\"- {count} {tipologia}\")\n",
    "\n",
    "     # Stagioni con gli articoli\n",
    "    print(f\"\\nPer le {len(lista_stagioni)} differenti stagioni presenti in magazziono abbiamo:\")\n",
    "    for stagione, data in lista_stagioni.items():\n",
    "        print(f\"- {data['count']} articoli in stagione {stagione}\")\n",
    "        print(f\"   Articoli:\")\n",
    "        for articolo in data['articoli']:\n",
    "            print(f\"      - {articolo.tipologia} {articolo.colore} {articolo.marca} ({articolo.taglia})\")\n",
    "\n",
    "    # Colori divisi per tipologia\n",
    "    print(f\"\\nDelle {len(lista_colori_per_tipologia)} tipologie di capi presenti in magazzino abbiamo i seguenti colori:\")\n",
    "    for tipologia, colori in lista_colori_per_tipologia.items():\n",
    "        print(f\"Tipologia {tipologia}:\")\n",
    "        for colore, count in colori.items():\n",
    "            print(f\"- {count} articoli {colore}\")\n",
    "\n",
    "    # Marche divise per tipologia\n",
    "    print(f\"\\nDelle {len(lista_marche_per_tipologia)} tipologie di capi in magazzino abbiamo le seguenti marche:\")\n",
    "    for tipologia, marche in lista_marche_per_tipologia.items():\n",
    "        print(f\"Tipologia {tipologia}:\")\n",
    "        for marca, count in marche.items():\n",
    "            print(f\"- {count} articoli {marca}\")\n",
    "\n",
    "    # Marche generali e divisione per capi\n",
    "    print(f\"\\nIl dettaglio delle {len(lista_marche)} marche presenti in magazzino è il seguente:\")\n",
    "    for marca, count in lista_marche.items():\n",
    "        print(f\"- {count} capi di marca {marca}\")\n"
   ]
  },
  {
   "cell_type": "markdown",
   "id": "7772348f-0403-4d0e-9a7c-f54d7dda0280",
   "metadata": {},
   "source": [
    "# Testiamo il codice\n"
   ]
  },
  {
   "cell_type": "markdown",
   "id": "f0854d36-e98d-4f58-b94b-1bb652ee8f1f",
   "metadata": {},
   "source": [
    "### Assicuriamoci che il magazzino sia vuoto\n"
   ]
  },
  {
   "cell_type": "code",
   "execution_count": 449,
   "id": "73d93298-e06d-44eb-8c75-38d445d5cbf6",
   "metadata": {},
   "outputs": [
    {
     "name": "stdout",
     "output_type": "stream",
     "text": [
      "Il magazzino è stato svuotato.\n"
     ]
    }
   ],
   "source": [
    "svuota_magazzino()"
   ]
  },
  {
   "cell_type": "code",
   "execution_count": 451,
   "id": "fdfe67c8-1c85-49f0-9773-debbcd26b462",
   "metadata": {},
   "outputs": [],
   "source": [
    "visualizza_magazzino()"
   ]
  },
  {
   "cell_type": "markdown",
   "id": "e647ef5f-f0c7-4799-b987-4ac85eda7d71",
   "metadata": {},
   "source": [
    "### Inseriamo elementi nuovi nel magazzino"
   ]
  },
  {
   "cell_type": "code",
   "execution_count": 454,
   "id": "8d8092ce-051b-45a3-b0ab-93e9d2bcb709",
   "metadata": {},
   "outputs": [],
   "source": [
    "#pantaloni\n",
    "aggiungi_capo('jeans', 'pantaloni', 'inverno', 'nero', 'xs', 'only', quantità=1)\n",
    "aggiungi_capo('jeans', 'pantaloni', 'inverno', 'blu', 'l', 'only', quantità=1)\n",
    "aggiungi_capo('bermuda', 'pantaloni', 'primavera', 'nero', 'xs', 'only', quantità=10)\n",
    "aggiungi_capo('jeans', 'pantaloni', 'inverno', 'blu', 'm', 'only', quantità=1)\n",
    "aggiungi_capo('leggins', 'pantaloni', 'autunno', 'rosa', 's', 'nike', quantità=10)\n",
    "aggiungi_capo('jeans', 'pantaloni', 'inverno', 'blu', 'xxl', 'only', quantità=1)\n",
    "#maglie e camicie\n",
    "aggiungi_capo('maglietta', 'maglie e camicie', 'estate', 'nera', 'm', 'nike', quantità=2)\n",
    "aggiungi_capo('maglietta', 'maglie e camicie', 'estate', 'nera', 's', 'tommy', quantità=4)\n",
    "aggiungi_capo('top', 'maglie e camicie', 'estate', 'nera', 'm', 'adidas')\n",
    "aggiungi_capo('camicia', 'maglie e camicie', 'estate', 'azzurra', 's', 'zara')\n",
    "#intimo\n",
    "aggiungi_capo('mutande', 'intimo', 'estate', 'bianco', 's', 'adidas')\n",
    "aggiungi_capo('reggiseno', 'intimo', 'estate', 'bianco', 's', 'adidas')"
   ]
  },
  {
   "cell_type": "code",
   "execution_count": 456,
   "id": "35c3f737-78e0-444f-b290-764f20e20065",
   "metadata": {},
   "outputs": [
    {
     "name": "stdout",
     "output_type": "stream",
     "text": [
      "Codice yb92RtMz: jeans, pantaloni, inverno, nero, xs, only, 1\n",
      "Codice Iym16fbH: jeans, pantaloni, inverno, blu, l, only, 1\n",
      "Codice pjGPktLF: bermuda, pantaloni, primavera, nero, xs, only, 10\n",
      "Codice qf7Y6OS6: jeans, pantaloni, inverno, blu, m, only, 1\n",
      "Codice zgg3ks3N: leggins, pantaloni, autunno, rosa, s, nike, 10\n",
      "Codice 9ZYo77Np: jeans, pantaloni, inverno, blu, xxl, only, 1\n",
      "Codice SSkzFeGI: maglietta, maglie e camicie, estate, nera, m, nike, 2\n",
      "Codice 5qArElRL: maglietta, maglie e camicie, estate, nera, s, tommy, 4\n",
      "Codice 7xbzEyTp: top, maglie e camicie, estate, nera, m, adidas, 1\n",
      "Codice 0uv4xRuG: camicia, maglie e camicie, estate, azzurra, s, zara, 1\n",
      "Codice 9CJn8sa7: mutande, intimo, estate, bianco, s, adidas, 1\n",
      "Codice u5ZQ456r: reggiseno, intimo, estate, bianco, s, adidas, 1\n"
     ]
    }
   ],
   "source": [
    "visualizza_magazzino()"
   ]
  },
  {
   "cell_type": "markdown",
   "id": "baa6d3cc-9b64-4362-8f2f-8b5fa13c471b",
   "metadata": {},
   "source": [
    "### Aggiungiamo un capo già presente in magazzino"
   ]
  },
  {
   "cell_type": "code",
   "execution_count": 459,
   "id": "2ec097be-7d76-40a6-a78c-9453fe8a1794",
   "metadata": {},
   "outputs": [
    {
     "name": "stdin",
     "output_type": "stream",
     "text": [
      "Un capo con queste caratteristiche:\n",
      "jeans - pantaloni - inverno - nero - xs - only \n",
      "è già presente nel magazzino, vuoi aumentarne la quantità?si/no:  si\n"
     ]
    },
    {
     "name": "stdout",
     "output_type": "stream",
     "text": [
      "Codice trovato: yb92RtMz\n",
      "Non è stato possibile trovare alcun capo associato a questo codici in magazzino\n"
     ]
    }
   ],
   "source": [
    "aggiungi_capo('jeans', 'pantaloni', 'inverno', 'nero', 'xs', 'only', quantità=1)"
   ]
  },
  {
   "cell_type": "code",
   "execution_count": 461,
   "id": "f8c871ce-56d4-40f8-a9bb-7e4312ef62a3",
   "metadata": {},
   "outputs": [
    {
     "name": "stdout",
     "output_type": "stream",
     "text": [
      "Codice yb92RtMz: jeans, pantaloni, inverno, nero, xs, only, 1\n",
      "Codice Iym16fbH: jeans, pantaloni, inverno, blu, l, only, 1\n",
      "Codice pjGPktLF: bermuda, pantaloni, primavera, nero, xs, only, 10\n",
      "Codice qf7Y6OS6: jeans, pantaloni, inverno, blu, m, only, 1\n",
      "Codice zgg3ks3N: leggins, pantaloni, autunno, rosa, s, nike, 10\n",
      "Codice 9ZYo77Np: jeans, pantaloni, inverno, blu, xxl, only, 1\n",
      "Codice SSkzFeGI: maglietta, maglie e camicie, estate, nera, m, nike, 2\n",
      "Codice 5qArElRL: maglietta, maglie e camicie, estate, nera, s, tommy, 4\n",
      "Codice 7xbzEyTp: top, maglie e camicie, estate, nera, m, adidas, 1\n",
      "Codice 0uv4xRuG: camicia, maglie e camicie, estate, azzurra, s, zara, 1\n",
      "Codice 9CJn8sa7: mutande, intimo, estate, bianco, s, adidas, 1\n",
      "Codice u5ZQ456r: reggiseno, intimo, estate, bianco, s, adidas, 1\n"
     ]
    }
   ],
   "source": [
    "visualizza_magazzino() ##Uniforma output"
   ]
  },
  {
   "cell_type": "markdown",
   "id": "00622cb8-0d07-418a-abeb-11a06379d828",
   "metadata": {},
   "source": [
    "### Inseriamo categorie/stagioni/taglie non valide"
   ]
  },
  {
   "cell_type": "code",
   "execution_count": 464,
   "id": "94b860df-574d-44ed-9ef2-2ef99539f286",
   "metadata": {},
   "outputs": [
    {
     "data": {
      "text/plain": [
       "\"Categoria 'giacche' non valida. Le categorie valide sono: scarpe, pantaloni, maglie e camicie, maglioni e felpe, giacche e cappotti, accessori, intimo\""
      ]
     },
     "execution_count": 464,
     "metadata": {},
     "output_type": "execute_result"
    }
   ],
   "source": [
    "aggiungi_capo('cappotto', 'giacche', 'inverno', 'marrone', 'l', 'cos', quantità=12)"
   ]
  },
  {
   "cell_type": "code",
   "execution_count": 470,
   "id": "d8a422fa-d233-43c6-8a92-e7a940e4818e",
   "metadata": {},
   "outputs": [
    {
     "data": {
      "text/plain": [
       "\"Stagione 'inv' non valida. Le stagioni valide sono: primavera, estate, autunno, inverno\""
      ]
     },
     "execution_count": 470,
     "metadata": {},
     "output_type": "execute_result"
    }
   ],
   "source": [
    "aggiungi_capo('cappotto', 'giacche e cappotti', 'inv', 'marrone', 'l', 'cos', quantità=12)"
   ]
  },
  {
   "cell_type": "code",
   "execution_count": 472,
   "id": "2c28cc14-815f-41ed-a7ef-6753d9691f8f",
   "metadata": {},
   "outputs": [
    {
     "data": {
      "text/plain": [
       "\"Taglia '42' non valida. Le taglie valide sono: xxxs, xxs, xs, s, m, l, xl, xxl, xxxl\""
      ]
     },
     "execution_count": 472,
     "metadata": {},
     "output_type": "execute_result"
    }
   ],
   "source": [
    "aggiungi_capo('cappotto', 'giacche e cappotti', 'inverno', 'marrone', '42', 'cos', quantità=12)"
   ]
  },
  {
   "cell_type": "code",
   "execution_count": 474,
   "id": "f4855ee0-e91e-4bb8-8321-2fa430b26e3c",
   "metadata": {},
   "outputs": [
    {
     "name": "stdout",
     "output_type": "stream",
     "text": [
      "Codice yb92RtMz: jeans, pantaloni, inverno, nero, xs, only, 1\n",
      "Codice Iym16fbH: jeans, pantaloni, inverno, blu, l, only, 1\n",
      "Codice pjGPktLF: bermuda, pantaloni, primavera, nero, xs, only, 10\n",
      "Codice qf7Y6OS6: jeans, pantaloni, inverno, blu, m, only, 1\n",
      "Codice zgg3ks3N: leggins, pantaloni, autunno, rosa, s, nike, 10\n",
      "Codice 9ZYo77Np: jeans, pantaloni, inverno, blu, xxl, only, 1\n",
      "Codice SSkzFeGI: maglietta, maglie e camicie, estate, nera, m, nike, 2\n",
      "Codice 5qArElRL: maglietta, maglie e camicie, estate, nera, s, tommy, 4\n",
      "Codice 7xbzEyTp: top, maglie e camicie, estate, nera, m, adidas, 1\n",
      "Codice 0uv4xRuG: camicia, maglie e camicie, estate, azzurra, s, zara, 1\n",
      "Codice 9CJn8sa7: mutande, intimo, estate, bianco, s, adidas, 1\n",
      "Codice u5ZQ456r: reggiseno, intimo, estate, bianco, s, adidas, 1\n"
     ]
    }
   ],
   "source": [
    "visualizza_magazzino()"
   ]
  },
  {
   "cell_type": "markdown",
   "id": "b0901813-9456-4bf5-874d-45287566e0d7",
   "metadata": {},
   "source": [
    "### Aumentiamo la quantità di un elemento gia presente in magazzino\n"
   ]
  },
  {
   "cell_type": "code",
   "execution_count": 477,
   "id": "d2ed5ce3-5ac0-4edb-9093-75176515feaa",
   "metadata": {},
   "outputs": [
    {
     "name": "stdout",
     "output_type": "stream",
     "text": [
      "Codice trovato: 9CJn8sa7\n"
     ]
    }
   ],
   "source": [
    "stampa_codice('mutande','intimo','estate','bianco','s','adidas')"
   ]
  },
  {
   "cell_type": "code",
   "execution_count": 479,
   "id": "f9e3c60c-b63e-4a8b-a8ac-ac255f0f6512",
   "metadata": {},
   "outputs": [],
   "source": [
    "aumenta_diminuisci_quantità(ritorna_codice('mutande','intimo','estate','bianco','s','adidas'),3)"
   ]
  },
  {
   "cell_type": "code",
   "execution_count": 481,
   "id": "9775825e-f42a-4505-984b-6ba323146054",
   "metadata": {},
   "outputs": [
    {
     "name": "stdout",
     "output_type": "stream",
     "text": [
      "Codice yb92RtMz: jeans, pantaloni, inverno, nero, xs, only, 1\n",
      "Codice Iym16fbH: jeans, pantaloni, inverno, blu, l, only, 1\n",
      "Codice pjGPktLF: bermuda, pantaloni, primavera, nero, xs, only, 10\n",
      "Codice qf7Y6OS6: jeans, pantaloni, inverno, blu, m, only, 1\n",
      "Codice zgg3ks3N: leggins, pantaloni, autunno, rosa, s, nike, 10\n",
      "Codice 9ZYo77Np: jeans, pantaloni, inverno, blu, xxl, only, 1\n",
      "Codice SSkzFeGI: maglietta, maglie e camicie, estate, nera, m, nike, 2\n",
      "Codice 5qArElRL: maglietta, maglie e camicie, estate, nera, s, tommy, 4\n",
      "Codice 7xbzEyTp: top, maglie e camicie, estate, nera, m, adidas, 1\n",
      "Codice 0uv4xRuG: camicia, maglie e camicie, estate, azzurra, s, zara, 1\n",
      "Codice 9CJn8sa7: mutande, intimo, estate, bianco, s, adidas, 4\n",
      "Codice u5ZQ456r: reggiseno, intimo, estate, bianco, s, adidas, 1\n"
     ]
    }
   ],
   "source": [
    "visualizza_magazzino()"
   ]
  },
  {
   "cell_type": "markdown",
   "id": "679a286a-51b6-46ac-a8e9-d41adc05b038",
   "metadata": {},
   "source": [
    "### Aumentiamo la quantità di un elemento che non c'è in magazzino"
   ]
  },
  {
   "cell_type": "code",
   "execution_count": 484,
   "id": "c3e76edf-733a-45b6-a7d6-473d001ca02a",
   "metadata": {},
   "outputs": [
    {
     "name": "stdout",
     "output_type": "stream",
     "text": [
      "Non è stato possibile trovare alcun capo associato a questo codici in magazzino\n"
     ]
    }
   ],
   "source": [
    "aumenta_diminuisci_quantità('M9dXiEG',+1)"
   ]
  },
  {
   "cell_type": "code",
   "execution_count": 486,
   "id": "8b4ce10f-cd9d-4aba-a9e6-8c87b7f84b1f",
   "metadata": {},
   "outputs": [
    {
     "name": "stdout",
     "output_type": "stream",
     "text": [
      "Codice yb92RtMz: jeans, pantaloni, inverno, nero, xs, only, 1\n",
      "Codice Iym16fbH: jeans, pantaloni, inverno, blu, l, only, 1\n",
      "Codice pjGPktLF: bermuda, pantaloni, primavera, nero, xs, only, 10\n",
      "Codice qf7Y6OS6: jeans, pantaloni, inverno, blu, m, only, 1\n",
      "Codice zgg3ks3N: leggins, pantaloni, autunno, rosa, s, nike, 10\n",
      "Codice 9ZYo77Np: jeans, pantaloni, inverno, blu, xxl, only, 1\n",
      "Codice SSkzFeGI: maglietta, maglie e camicie, estate, nera, m, nike, 2\n",
      "Codice 5qArElRL: maglietta, maglie e camicie, estate, nera, s, tommy, 4\n",
      "Codice 7xbzEyTp: top, maglie e camicie, estate, nera, m, adidas, 1\n",
      "Codice 0uv4xRuG: camicia, maglie e camicie, estate, azzurra, s, zara, 1\n",
      "Codice 9CJn8sa7: mutande, intimo, estate, bianco, s, adidas, 4\n",
      "Codice u5ZQ456r: reggiseno, intimo, estate, bianco, s, adidas, 1\n"
     ]
    }
   ],
   "source": [
    "visualizza_magazzino()"
   ]
  },
  {
   "cell_type": "markdown",
   "id": "879e0364-3869-4fee-aa5c-5fa556f7a0e8",
   "metadata": {},
   "source": [
    "### Diminuiamo la quantità di un elemento presente in magazzino"
   ]
  },
  {
   "cell_type": "code",
   "execution_count": 489,
   "id": "a7d2d0a9-3ff5-4848-a761-ac47fa33ffb9",
   "metadata": {},
   "outputs": [],
   "source": [
    "aumenta_diminuisci_quantità(ritorna_codice('mutande','intimo','estate','bianco','s','adidas'),-3)"
   ]
  },
  {
   "cell_type": "code",
   "execution_count": 491,
   "id": "bf5b3f4c-378f-4389-a599-f7ead09db041",
   "metadata": {},
   "outputs": [
    {
     "name": "stdout",
     "output_type": "stream",
     "text": [
      "Codice yb92RtMz: jeans, pantaloni, inverno, nero, xs, only, 1\n",
      "Codice Iym16fbH: jeans, pantaloni, inverno, blu, l, only, 1\n",
      "Codice pjGPktLF: bermuda, pantaloni, primavera, nero, xs, only, 10\n",
      "Codice qf7Y6OS6: jeans, pantaloni, inverno, blu, m, only, 1\n",
      "Codice zgg3ks3N: leggins, pantaloni, autunno, rosa, s, nike, 10\n",
      "Codice 9ZYo77Np: jeans, pantaloni, inverno, blu, xxl, only, 1\n",
      "Codice SSkzFeGI: maglietta, maglie e camicie, estate, nera, m, nike, 2\n",
      "Codice 5qArElRL: maglietta, maglie e camicie, estate, nera, s, tommy, 4\n",
      "Codice 7xbzEyTp: top, maglie e camicie, estate, nera, m, adidas, 1\n",
      "Codice 0uv4xRuG: camicia, maglie e camicie, estate, azzurra, s, zara, 1\n",
      "Codice 9CJn8sa7: mutande, intimo, estate, bianco, s, adidas, 1\n",
      "Codice u5ZQ456r: reggiseno, intimo, estate, bianco, s, adidas, 1\n"
     ]
    }
   ],
   "source": [
    "visualizza_magazzino()"
   ]
  },
  {
   "cell_type": "markdown",
   "id": "9200f6fd-d9ef-466b-a060-0a893f6bcc21",
   "metadata": {},
   "source": [
    "### Riduciamo a zero il numero di un elemento per rimuoverlo"
   ]
  },
  {
   "cell_type": "code",
   "execution_count": 494,
   "id": "85234a65-80ca-45c7-a2b5-8e7af30c0e47",
   "metadata": {},
   "outputs": [],
   "source": [
    "aumenta_diminuisci_quantità(ritorna_codice('mutande','intimo','estate','bianco','s','adidas'),-1)"
   ]
  },
  {
   "cell_type": "code",
   "execution_count": 496,
   "id": "f789a290-a669-416e-a52e-6380adf8f746",
   "metadata": {},
   "outputs": [
    {
     "name": "stdout",
     "output_type": "stream",
     "text": [
      "Codice yb92RtMz: jeans, pantaloni, inverno, nero, xs, only, 1\n",
      "Codice Iym16fbH: jeans, pantaloni, inverno, blu, l, only, 1\n",
      "Codice pjGPktLF: bermuda, pantaloni, primavera, nero, xs, only, 10\n",
      "Codice qf7Y6OS6: jeans, pantaloni, inverno, blu, m, only, 1\n",
      "Codice zgg3ks3N: leggins, pantaloni, autunno, rosa, s, nike, 10\n",
      "Codice 9ZYo77Np: jeans, pantaloni, inverno, blu, xxl, only, 1\n",
      "Codice SSkzFeGI: maglietta, maglie e camicie, estate, nera, m, nike, 2\n",
      "Codice 5qArElRL: maglietta, maglie e camicie, estate, nera, s, tommy, 4\n",
      "Codice 7xbzEyTp: top, maglie e camicie, estate, nera, m, adidas, 1\n",
      "Codice 0uv4xRuG: camicia, maglie e camicie, estate, azzurra, s, zara, 1\n",
      "Codice u5ZQ456r: reggiseno, intimo, estate, bianco, s, adidas, 1\n"
     ]
    }
   ],
   "source": [
    "visualizza_magazzino()"
   ]
  },
  {
   "cell_type": "markdown",
   "id": "8d48c368-732a-479b-a690-a7bf2189b018",
   "metadata": {},
   "source": [
    "### Rimuoviamo direttamente un elemento intero"
   ]
  },
  {
   "cell_type": "code",
   "execution_count": 499,
   "id": "f20bef0c-a2dc-4b7a-a1d1-81a2326b5302",
   "metadata": {},
   "outputs": [],
   "source": [
    "rimuovi_capo(ritorna_codice('reggiseno','intimo','estate','bianco','s','adidas'))"
   ]
  },
  {
   "cell_type": "code",
   "execution_count": 501,
   "id": "c8ad5520-d85c-4631-bfcd-4e3f47d7c86e",
   "metadata": {},
   "outputs": [
    {
     "name": "stdout",
     "output_type": "stream",
     "text": [
      "Codice yb92RtMz: jeans, pantaloni, inverno, nero, xs, only, 1\n",
      "Codice Iym16fbH: jeans, pantaloni, inverno, blu, l, only, 1\n",
      "Codice pjGPktLF: bermuda, pantaloni, primavera, nero, xs, only, 10\n",
      "Codice qf7Y6OS6: jeans, pantaloni, inverno, blu, m, only, 1\n",
      "Codice zgg3ks3N: leggins, pantaloni, autunno, rosa, s, nike, 10\n",
      "Codice 9ZYo77Np: jeans, pantaloni, inverno, blu, xxl, only, 1\n",
      "Codice SSkzFeGI: maglietta, maglie e camicie, estate, nera, m, nike, 2\n",
      "Codice 5qArElRL: maglietta, maglie e camicie, estate, nera, s, tommy, 4\n",
      "Codice 7xbzEyTp: top, maglie e camicie, estate, nera, m, adidas, 1\n",
      "Codice 0uv4xRuG: camicia, maglie e camicie, estate, azzurra, s, zara, 1\n"
     ]
    }
   ],
   "source": [
    "visualizza_magazzino()"
   ]
  },
  {
   "cell_type": "markdown",
   "id": "31305285-de23-40ff-8574-5b17b251a32b",
   "metadata": {},
   "source": [
    "### Diminuiamo quantità oltre al valore massimo"
   ]
  },
  {
   "cell_type": "code",
   "execution_count": 504,
   "id": "cd963f5c-af8d-4560-b46e-8d8fbbf73c8b",
   "metadata": {},
   "outputs": [
    {
     "name": "stdout",
     "output_type": "stream",
     "text": [
      "Stai togliendo più capi di quanti presenti in magazzino. Quantità attuale in magazzino: 1\n"
     ]
    }
   ],
   "source": [
    "aumenta_diminuisci_quantità(ritorna_codice('jeans','pantaloni','inverno','nero','xs','only'),-4)"
   ]
  },
  {
   "cell_type": "code",
   "execution_count": 506,
   "id": "69a477f5-e756-47fc-9d16-3187b6afbb32",
   "metadata": {},
   "outputs": [
    {
     "name": "stdout",
     "output_type": "stream",
     "text": [
      "Codice yb92RtMz: jeans, pantaloni, inverno, nero, xs, only, 1\n",
      "Codice Iym16fbH: jeans, pantaloni, inverno, blu, l, only, 1\n",
      "Codice pjGPktLF: bermuda, pantaloni, primavera, nero, xs, only, 10\n",
      "Codice qf7Y6OS6: jeans, pantaloni, inverno, blu, m, only, 1\n",
      "Codice zgg3ks3N: leggins, pantaloni, autunno, rosa, s, nike, 10\n",
      "Codice 9ZYo77Np: jeans, pantaloni, inverno, blu, xxl, only, 1\n",
      "Codice SSkzFeGI: maglietta, maglie e camicie, estate, nera, m, nike, 2\n",
      "Codice 5qArElRL: maglietta, maglie e camicie, estate, nera, s, tommy, 4\n",
      "Codice 7xbzEyTp: top, maglie e camicie, estate, nera, m, adidas, 1\n",
      "Codice 0uv4xRuG: camicia, maglie e camicie, estate, azzurra, s, zara, 1\n"
     ]
    }
   ],
   "source": [
    "visualizza_magazzino()"
   ]
  },
  {
   "cell_type": "markdown",
   "id": "cdd70908-fbe8-4873-b2fb-583d736c9f1a",
   "metadata": {},
   "source": [
    "### Cambio caratteristiche alla camicia"
   ]
  },
  {
   "cell_type": "code",
   "execution_count": 509,
   "id": "43745809-803a-4dc5-943a-d35b6094abce",
   "metadata": {},
   "outputs": [],
   "source": [
    "modifica_attributo_capo(ritorna_codice('jeans','pantaloni','inverno','nero','xs','only'), 'marca', 'levis')"
   ]
  },
  {
   "cell_type": "code",
   "execution_count": 511,
   "id": "f73b0bfb-762c-4896-8ef9-b182fbe1c2d9",
   "metadata": {},
   "outputs": [
    {
     "name": "stdout",
     "output_type": "stream",
     "text": [
      "Codice yb92RtMz: jeans, pantaloni, inverno, nero, xs, levis, 1\n",
      "Codice Iym16fbH: jeans, pantaloni, inverno, blu, l, only, 1\n",
      "Codice pjGPktLF: bermuda, pantaloni, primavera, nero, xs, only, 10\n",
      "Codice qf7Y6OS6: jeans, pantaloni, inverno, blu, m, only, 1\n",
      "Codice zgg3ks3N: leggins, pantaloni, autunno, rosa, s, nike, 10\n",
      "Codice 9ZYo77Np: jeans, pantaloni, inverno, blu, xxl, only, 1\n",
      "Codice SSkzFeGI: maglietta, maglie e camicie, estate, nera, m, nike, 2\n",
      "Codice 5qArElRL: maglietta, maglie e camicie, estate, nera, s, tommy, 4\n",
      "Codice 7xbzEyTp: top, maglie e camicie, estate, nera, m, adidas, 1\n",
      "Codice 0uv4xRuG: camicia, maglie e camicie, estate, azzurra, s, zara, 1\n"
     ]
    }
   ],
   "source": [
    "visualizza_magazzino()"
   ]
  },
  {
   "cell_type": "markdown",
   "id": "fb170240-7557-4113-880b-4b5b58ca2fec",
   "metadata": {},
   "source": [
    "### Stampiamo il magazzino con filtri"
   ]
  },
  {
   "cell_type": "code",
   "execution_count": 514,
   "id": "b18eb03d-c830-45b4-acb9-2b1d5ffa1a63",
   "metadata": {},
   "outputs": [
    {
     "name": "stdout",
     "output_type": "stream",
     "text": [
      "Codice pjGPktLF: bermuda, pantaloni, primavera, nero, xs, only, 10\n"
     ]
    }
   ],
   "source": [
    "visualizza_magazzino(categoria='pantaloni', marca='only', colore = 'nero')"
   ]
  },
  {
   "cell_type": "code",
   "execution_count": 516,
   "id": "27c80ba5-570c-4699-ad8a-cb7348941bda",
   "metadata": {},
   "outputs": [],
   "source": [
    "visualizza_magazzino(categoria='scarpe')"
   ]
  },
  {
   "cell_type": "code",
   "execution_count": 518,
   "id": "fea19bb1-3d49-44b5-9aac-3af69784d46a",
   "metadata": {},
   "outputs": [
    {
     "name": "stdout",
     "output_type": "stream",
     "text": [
      "Codice yb92RtMz: jeans, pantaloni, inverno, nero, xs, levis, 1\n",
      "Codice pjGPktLF: bermuda, pantaloni, primavera, nero, xs, only, 10\n"
     ]
    }
   ],
   "source": [
    "visualizza_magazzino(colore='nero')"
   ]
  },
  {
   "cell_type": "code",
   "execution_count": 522,
   "id": "8902bfab-d1ee-4f9c-bc9c-ad071845a420",
   "metadata": {},
   "outputs": [
    {
     "name": "stdout",
     "output_type": "stream",
     "text": [
      "Codice SSkzFeGI: maglietta, maglie e camicie, estate, nera, m, nike, 2\n",
      "Codice 5qArElRL: maglietta, maglie e camicie, estate, nera, s, tommy, 4\n",
      "Codice 7xbzEyTp: top, maglie e camicie, estate, nera, m, adidas, 1\n",
      "Codice 0uv4xRuG: camicia, maglie e camicie, estate, azzurra, s, zara, 1\n"
     ]
    }
   ],
   "source": [
    "visualizza_magazzino(categoria='maglie e camicie')"
   ]
  },
  {
   "cell_type": "code",
   "execution_count": 524,
   "id": "9df5ab5b-adf6-4aa7-9f6f-a6399bb4cb2c",
   "metadata": {},
   "outputs": [
    {
     "name": "stdout",
     "output_type": "stream",
     "text": [
      "Codice pjGPktLF: bermuda, pantaloni, primavera, nero, xs, only, 10\n",
      "Codice zgg3ks3N: leggins, pantaloni, autunno, rosa, s, nike, 10\n",
      "Codice 5qArElRL: maglietta, maglie e camicie, estate, nera, s, tommy, 4\n"
     ]
    }
   ],
   "source": [
    "visualizza_magazzino(quantità= '>2') "
   ]
  },
  {
   "cell_type": "code",
   "execution_count": 526,
   "id": "18e80213-560f-47fc-aab6-b6cd0070f692",
   "metadata": {},
   "outputs": [
    {
     "name": "stdout",
     "output_type": "stream",
     "text": [
      "Codice yb92RtMz: jeans, pantaloni, inverno, nero, xs, levis, 1\n",
      "Codice Iym16fbH: jeans, pantaloni, inverno, blu, l, only, 1\n",
      "Codice pjGPktLF: bermuda, pantaloni, primavera, nero, xs, only, 10\n",
      "Codice qf7Y6OS6: jeans, pantaloni, inverno, blu, m, only, 1\n",
      "Codice zgg3ks3N: leggins, pantaloni, autunno, rosa, s, nike, 10\n",
      "Codice 9ZYo77Np: jeans, pantaloni, inverno, blu, xxl, only, 1\n",
      "Codice SSkzFeGI: maglietta, maglie e camicie, estate, nera, m, nike, 2\n",
      "Codice 5qArElRL: maglietta, maglie e camicie, estate, nera, s, tommy, 4\n",
      "Codice 7xbzEyTp: top, maglie e camicie, estate, nera, m, adidas, 1\n",
      "Codice 0uv4xRuG: camicia, maglie e camicie, estate, azzurra, s, zara, 1\n"
     ]
    }
   ],
   "source": [
    "visualizza_magazzino()"
   ]
  },
  {
   "cell_type": "markdown",
   "id": "caa6d663-08f8-4d55-9cdd-12a503b75417",
   "metadata": {},
   "source": [
    "### Stampo la statistica"
   ]
  },
  {
   "cell_type": "code",
   "execution_count": 545,
   "id": "9fe68ade-12d4-4ccc-9b71-8c0eb47e20f9",
   "metadata": {},
   "outputs": [
    {
     "name": "stdout",
     "output_type": "stream",
     "text": [
      "In totale ci sono 32 articoli nel magazzino.\n",
      "\n",
      "In particolare, delle 2 categorie di capi presenti in magazzino abbiamo:\n",
      "24 pantaloni\n",
      "   - Colori:\n",
      "      - nero:\n",
      "         - 1 levis\n",
      "         - 10 only\n",
      "      - blu:\n",
      "         - 3 only\n",
      "      - rosa:\n",
      "         - 10 nike\n",
      "8 maglie e camicie\n",
      "   - Colori:\n",
      "      - nera:\n",
      "         - 2 nike\n",
      "         - 4 tommy\n",
      "         - 1 adidas\n",
      "      - azzurra:\n",
      "         - 1 zara\n",
      "\n",
      "Delle 6 tipologie di capi presenti in magazzino abbiamo:\n",
      "- 4 jeans\n",
      "- 10 bermuda\n",
      "- 10 leggins\n",
      "- 6 maglietta\n",
      "- 1 top\n",
      "- 1 camicia\n",
      "\n",
      "Per le 4 differenti stagioni presenti in magazziono abbiamo:\n",
      "- 4 articoli in stagione inverno\n",
      "   Articoli:\n",
      "      - jeans nero levis (xs)\n",
      "      - jeans blu only (l)\n",
      "      - jeans blu only (m)\n",
      "      - jeans blu only (xxl)\n",
      "- 1 articoli in stagione primavera\n",
      "   Articoli:\n",
      "      - bermuda nero only (xs)\n",
      "- 1 articoli in stagione autunno\n",
      "   Articoli:\n",
      "      - leggins rosa nike (s)\n",
      "- 4 articoli in stagione estate\n",
      "   Articoli:\n",
      "      - maglietta nera nike (m)\n",
      "      - maglietta nera tommy (s)\n",
      "      - top nera adidas (m)\n",
      "      - camicia azzurra zara (s)\n",
      "\n",
      "Delle 6 tipologie di capi presenti in magazzino abbiamo i seguenti colori:\n",
      "Tipologia jeans:\n",
      "- 1 articoli nero\n",
      "- 3 articoli blu\n",
      "Tipologia bermuda:\n",
      "- 10 articoli nero\n",
      "Tipologia leggins:\n",
      "- 10 articoli rosa\n",
      "Tipologia maglietta:\n",
      "- 6 articoli nera\n",
      "Tipologia top:\n",
      "- 1 articoli nera\n",
      "Tipologia camicia:\n",
      "- 1 articoli azzurra\n",
      "\n",
      "Delle 6 tipologie di capi in magazzino abbiamo le seguenti marche:\n",
      "Tipologia jeans:\n",
      "- 1 articoli levis\n",
      "- 3 articoli only\n",
      "Tipologia bermuda:\n",
      "- 10 articoli only\n",
      "Tipologia leggins:\n",
      "- 10 articoli nike\n",
      "Tipologia maglietta:\n",
      "- 2 articoli nike\n",
      "- 4 articoli tommy\n",
      "Tipologia top:\n",
      "- 1 articoli adidas\n",
      "Tipologia camicia:\n",
      "- 1 articoli zara\n",
      "\n",
      "Il dettaglio delle 6 marche presenti in magazzino è il seguente:\n",
      "- 1 capi di marca levis\n",
      "- 13 capi di marca only\n",
      "- 12 capi di marca nike\n",
      "- 4 capi di marca tommy\n",
      "- 1 capi di marca adidas\n",
      "- 1 capi di marca zara\n"
     ]
    }
   ],
   "source": [
    "statistica()"
   ]
  },
  {
   "cell_type": "code",
   "execution_count": null,
   "id": "3c0a16a7-f91b-4581-b4c0-cdaf7c9854de",
   "metadata": {},
   "outputs": [],
   "source": []
  }
 ],
 "metadata": {
  "kernelspec": {
   "display_name": "Python 3 (ipykernel)",
   "language": "python",
   "name": "python3"
  },
  "language_info": {
   "codemirror_mode": {
    "name": "ipython",
    "version": 3
   },
   "file_extension": ".py",
   "mimetype": "text/x-python",
   "name": "python",
   "nbconvert_exporter": "python",
   "pygments_lexer": "ipython3",
   "version": "3.12.7"
  }
 },
 "nbformat": 4,
 "nbformat_minor": 5
}

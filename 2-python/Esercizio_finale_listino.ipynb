{
 "cells": [
  {
   "cell_type": "code",
   "execution_count": 3,
   "id": "787390a4-4d96-4fd9-9c03-99ac74cffd9b",
   "metadata": {},
   "outputs": [],
   "source": [
    "# Creo l'listino come dizionario nome:oggetto_item\n",
    "listino = {}\n",
    "\n",
    "# Creo l'oggetto Item\n",
    "class Item:\n",
    "    def __init__(self, nome, prezzo):\n",
    "        self.nome = nome\n",
    "        self.prezzo = prezzo\n",
    "\n",
    "\n",
    "# Funzione per aggiungere un prodotto in listino\n",
    "def aggiungi_item(nome, prezzo):\n",
    "    # Se l'item non è già nel listino, lo aggiungiamo\n",
    "    if nome not in listino:\n",
    "        listino[nome] = Item(nome, prezzo)\n",
    "    else:\n",
    "        print(\"Questo prodotto è già nel listino.\")\n",
    "        \n",
    "\n",
    "# Funzione per modificare il prezzo di un prodotto\n",
    "def modifica_prezzo(nome, new_prezzo):\n",
    "    if nome in listino:\n",
    "        listino[nome].prezzo = new_prezzo\n",
    "    else:\n",
    "        print(f\"Il prodotto {nome} non esiste nel listino.\")\n",
    "\n",
    "\n",
    "# Funzione per mostrare il contenuto totale dell'listino\n",
    "def mostra_listino():\n",
    "    for item in listino.values():  # Usa .values() per ottenere gli oggetti Item direttamente\n",
    "        print(f\"Prodotto: {item.nome}, prezzo: {item.prezzo}\")\n",
    "\n",
    "\n",
    "# Funzione che mette nel carrello dei prodotti, stampa il prezzo totale e chiede se inizializzare la spesa.\n",
    "# lista_acquisti =  [(\"smartphone\", 2), (\"notebook\", 1), (\"TV\", 3)]\n",
    "def shop(lista_acquisti):\n",
    "    tot = 0\n",
    "    for nome, quantita in lista_acquisti:\n",
    "        if nome in listino:  # Verifica che l'articolo esista nel listino\n",
    "            tot += listino[nome].prezzo * quantita  # Moltiplica il prezzo per la quantità\n",
    "        else:\n",
    "            print(f\"Il prodotto {nome} non è disponibile nel listino.\")\n",
    "    \n",
    "    print(f\"Il costo totale del tuo carrello è {tot}€\")\n"
   ]
  },
  {
   "cell_type": "code",
   "execution_count": 5,
   "id": "411fadee-bc7e-473d-af7b-b00da729b759",
   "metadata": {},
   "outputs": [
    {
     "name": "stdout",
     "output_type": "stream",
     "text": [
      "Prodotto: smartphone, prezzo: 500\n",
      "Prodotto: notebook, prezzo: 1200\n",
      "Prodotto: TV, prezzo: 800\n"
     ]
    }
   ],
   "source": [
    "# Aggiungi alcuni prodotti al listino\n",
    "aggiungi_item(\"smartphone\", 500)\n",
    "aggiungi_item(\"notebook\", 1200)\n",
    "aggiungi_item(\"TV\", 800)\n",
    "\n",
    "# Mostra il listino\n",
    "mostra_listino()"
   ]
  },
  {
   "cell_type": "code",
   "execution_count": 7,
   "id": "0d312918-0b57-457e-a91c-49830fd7d455",
   "metadata": {},
   "outputs": [
    {
     "name": "stdout",
     "output_type": "stream",
     "text": [
      "Prodotto: smartphone, prezzo: 500\n",
      "Prodotto: notebook, prezzo: 1100\n",
      "Prodotto: TV, prezzo: 800\n"
     ]
    }
   ],
   "source": [
    "# Modifica il prezzo di uno degli articoli\n",
    "modifica_prezzo(\"notebook\", 1100)\n",
    "\n",
    "# Mostra il listino dopo la modifica\n",
    "mostra_listino()"
   ]
  },
  {
   "cell_type": "code",
   "execution_count": 9,
   "id": "d71a1af1-c6e6-448b-97bc-e7e879f1bf68",
   "metadata": {},
   "outputs": [
    {
     "name": "stdout",
     "output_type": "stream",
     "text": [
      "Il costo totale del tuo carrello è 4500€\n",
      "Prodotto: smartphone, prezzo: 500\n",
      "Prodotto: notebook, prezzo: 1100\n",
      "Prodotto: TV, prezzo: 800\n"
     ]
    }
   ],
   "source": [
    "# Aggiungi prodotti al carrello (nome, quantità)\n",
    "lista_acquisti = [(\"smartphone\", 2), (\"notebook\", 1), (\"TV\", 3)]\n",
    "shop(lista_acquisti)\n",
    "\n",
    "# Mostra il listino dopo gli acquisti\n",
    "mostra_listino()"
   ]
  },
  {
   "cell_type": "code",
   "execution_count": null,
   "id": "bd9f099e-2df7-42fa-8adc-4ebf98e0f901",
   "metadata": {},
   "outputs": [],
   "source": []
  }
 ],
 "metadata": {
  "kernelspec": {
   "display_name": "Python 3 (ipykernel)",
   "language": "python",
   "name": "python3"
  },
  "language_info": {
   "codemirror_mode": {
    "name": "ipython",
    "version": 3
   },
   "file_extension": ".py",
   "mimetype": "text/x-python",
   "name": "python",
   "nbconvert_exporter": "python",
   "pygments_lexer": "ipython3",
   "version": "3.12.7"
  }
 },
 "nbformat": 4,
 "nbformat_minor": 5
}
